{
 "cells": [
  {
   "cell_type": "markdown",
   "id": "98b20549",
   "metadata": {},
   "source": [
    "# Regressão Lasso, Ridge e Elastic Net\n",
    "\n",
    "São aplicadas para balanceamento entre problemas de **underfitting (bias em alta)** e **overfitting (variance em alta)**, chamada **regularização**. Ideal para variáveis independentes altamente correlacionadas (**multicolinearidade**).\n",
    "\n",
    "- **Bias** (Viés): Diferença entre a previsão média do modelo e o valor correto esperado.\n",
    "\n",
    "- **Variance** (Variação): Variabilidade do modelo para um deteriminado dado, capacidade do modelo de se adaptar com os dados.\n",
    "\n",
    "Um bom modelo de regressão tem que ter um bom relacionamento entre o Bias e Variance.\n",
    "\n",
    "- **Alta variância**: Baixo erro em dados de treino (dados que utilizamos para criar o modelo) e alto erro em dados de teste. (Overfitting)\n",
    "- **Alto bias**: Alto erro em dados de treino e em dados de teste\n",
    "- **Alto bias e alto variância**: Alto erro em dados de treino e maior erro em dados de teste\n",
    "- **Baixa variância e baixo bias**: Baixo erro em dados de teste e baixo erro em dados de treino\n",
    "\n",
    "![MarineGEO circle logo](https://miro.medium.com/max/1125/1*_7OPgojau8hkiPUiHoGK_w.png)"
   ]
  },
  {
   "cell_type": "markdown",
   "id": "3a5e5c78",
   "metadata": {},
   "source": [
    "## Ajuste na Regressão Linear\n",
    "\n",
    "$$RSS = \\sum\\limits_{i=1}^{n}\\left[y_i - (w \\cdot x_i + b) \\right]^2$$\n",
    "\n",
    "Esse é o cálculo para criar um modelo regressão linear, a soma residual dos quadrados (ou Residual sum of squares em inglês). A **soma dos resíduos quadrados deve ser o mínimo possível, para ajustar uma reta, para ser criado o modelo de regressão.**\n",
    "\n",
    "***\n",
    "$\\text{Regularização L1 (Regressão Lasso): }\\;$\n",
    "\n",
    "- Diminui-se a variância e diminui-se o problema da multicolinearidade\n",
    "- Inclui um termo na função custo de regressão\n",
    "\n",
    "$$RSS_{lasso} = \\sum\\limits_{i=1}^{n}\\left[y_i - (w \\cdot x_i + b) \\right]^2 + a\\sum\\limits_{j=1}^{p}\\vert w_j \\vert$$\n",
    "***\n",
    "$\\text{Regularização L2 (Regressão Ridge): }\\;$\n",
    "\n",
    "- Dados Correlacionados terão coeficientes parecidos\n",
    "- Aplicado em problemas de **multicolinearidade**\n",
    "- Recomendado fazer o tratamento de outliers\n",
    "- É **mais eficiente**, computacionalmente, do **que a Lasso**\n",
    "\n",
    "$$RSS_{ridge} = \\sum\\limits_{i=1}^{n}\\left[y_i - (w \\cdot x_i + b) \\right]^2 + a\\sum\\limits_{j=1}^{p} w^2_j$$\n",
    "***\n",
    "$\\text{Regularização L3 (Elastic Net): }\\;$\n",
    "\n",
    "- Combinação de L1 e L2\n",
    "- Indicada para variáveis independentes altamente correlacionadas\n",
    "\n",
    "$$RSS_{elasticnet} = \\sum\\limits_{i=1}^{n}\\left[y_i - (w \\cdot x_i + b) \\right]^2 + a\\sum\\limits_{j=1}^{p} w^2_j + a\\sum\\limits_{j=1}^{p}\\vert w_j \\vert$$\n",
    "***"
   ]
  },
  {
   "cell_type": "markdown",
   "id": "9ee3a4e6",
   "metadata": {},
   "source": [
    "## Análise inicial dos dados\n",
    "Apesar de já termos utilizado os dados para a regressão quantílica, vamos usar novamente. As variáveis são as seguintes:\n",
    "\n",
    "- **`dia`**: Sequência de dias\n",
    "- **`gast_dia_reais`**: Gasto, em reais, feito no dia\n",
    "- **`num_refeicoes`**: Número de refeições acumulado\n",
    "- **`gasto_acum_reais`**: Gasto, em reais, nas refeições acumulado\n",
    "\n",
    "A ideia do modelo é criar uma previsão para gastos futuros. (Variáveis altamente correlacionadas)"
   ]
  },
  {
   "cell_type": "code",
   "execution_count": 43,
   "id": "3ea4f16b",
   "metadata": {},
   "outputs": [],
   "source": [
    "import statsmodels\n",
    "import numpy as np\n",
    "import pandas as pd\n",
    "import seaborn as sns\n",
    "import matplotlib.pyplot as plt\n",
    "import statsmodels.formula.api as smf\n",
    "import statsmodels.stats.api as sms\n",
    "import scipy.stats as stats\n",
    "from statsmodels.tools.sm_exceptions import ValueWarning\n",
    "from matplotlib.pyplot import figure\n",
    "from sklearn.linear_model import Ridge\n",
    "from sklearn.linear_model import Lasso\n",
    "from sklearn.linear_model import ElasticNet"
   ]
  },
  {
   "cell_type": "code",
   "execution_count": 3,
   "id": "9bea8336",
   "metadata": {},
   "outputs": [],
   "source": [
    "dados = pd.read_excel('gasto_almoco.xlsx')"
   ]
  },
  {
   "cell_type": "code",
   "execution_count": 4,
   "id": "5fa904a9",
   "metadata": {},
   "outputs": [
    {
     "data": {
      "text/html": [
       "<div>\n",
       "<style scoped>\n",
       "    .dataframe tbody tr th:only-of-type {\n",
       "        vertical-align: middle;\n",
       "    }\n",
       "\n",
       "    .dataframe tbody tr th {\n",
       "        vertical-align: top;\n",
       "    }\n",
       "\n",
       "    .dataframe thead th {\n",
       "        text-align: right;\n",
       "    }\n",
       "</style>\n",
       "<table border=\"1\" class=\"dataframe\">\n",
       "  <thead>\n",
       "    <tr style=\"text-align: right;\">\n",
       "      <th></th>\n",
       "      <th>dia</th>\n",
       "      <th>gasto_dia_reais</th>\n",
       "      <th>num_refeicoes</th>\n",
       "      <th>gasto_acum_reais</th>\n",
       "    </tr>\n",
       "  </thead>\n",
       "  <tbody>\n",
       "    <tr>\n",
       "      <th>0</th>\n",
       "      <td>1</td>\n",
       "      <td>26</td>\n",
       "      <td>1</td>\n",
       "      <td>26</td>\n",
       "    </tr>\n",
       "    <tr>\n",
       "      <th>1</th>\n",
       "      <td>2</td>\n",
       "      <td>18</td>\n",
       "      <td>2</td>\n",
       "      <td>44</td>\n",
       "    </tr>\n",
       "    <tr>\n",
       "      <th>2</th>\n",
       "      <td>3</td>\n",
       "      <td>37</td>\n",
       "      <td>3</td>\n",
       "      <td>81</td>\n",
       "    </tr>\n",
       "    <tr>\n",
       "      <th>3</th>\n",
       "      <td>4</td>\n",
       "      <td>21</td>\n",
       "      <td>4</td>\n",
       "      <td>102</td>\n",
       "    </tr>\n",
       "    <tr>\n",
       "      <th>4</th>\n",
       "      <td>5</td>\n",
       "      <td>39</td>\n",
       "      <td>5</td>\n",
       "      <td>141</td>\n",
       "    </tr>\n",
       "    <tr>\n",
       "      <th>5</th>\n",
       "      <td>6</td>\n",
       "      <td>0</td>\n",
       "      <td>5</td>\n",
       "      <td>141</td>\n",
       "    </tr>\n",
       "    <tr>\n",
       "      <th>6</th>\n",
       "      <td>7</td>\n",
       "      <td>41</td>\n",
       "      <td>6</td>\n",
       "      <td>182</td>\n",
       "    </tr>\n",
       "    <tr>\n",
       "      <th>7</th>\n",
       "      <td>8</td>\n",
       "      <td>34</td>\n",
       "      <td>7</td>\n",
       "      <td>216</td>\n",
       "    </tr>\n",
       "    <tr>\n",
       "      <th>8</th>\n",
       "      <td>9</td>\n",
       "      <td>53</td>\n",
       "      <td>8</td>\n",
       "      <td>269</td>\n",
       "    </tr>\n",
       "    <tr>\n",
       "      <th>9</th>\n",
       "      <td>10</td>\n",
       "      <td>22</td>\n",
       "      <td>9</td>\n",
       "      <td>291</td>\n",
       "    </tr>\n",
       "    <tr>\n",
       "      <th>10</th>\n",
       "      <td>11</td>\n",
       "      <td>8</td>\n",
       "      <td>10</td>\n",
       "      <td>299</td>\n",
       "    </tr>\n",
       "    <tr>\n",
       "      <th>11</th>\n",
       "      <td>12</td>\n",
       "      <td>28</td>\n",
       "      <td>11</td>\n",
       "      <td>327</td>\n",
       "    </tr>\n",
       "    <tr>\n",
       "      <th>12</th>\n",
       "      <td>13</td>\n",
       "      <td>36</td>\n",
       "      <td>12</td>\n",
       "      <td>363</td>\n",
       "    </tr>\n",
       "    <tr>\n",
       "      <th>13</th>\n",
       "      <td>14</td>\n",
       "      <td>42</td>\n",
       "      <td>13</td>\n",
       "      <td>405</td>\n",
       "    </tr>\n",
       "    <tr>\n",
       "      <th>14</th>\n",
       "      <td>15</td>\n",
       "      <td>72</td>\n",
       "      <td>15</td>\n",
       "      <td>477</td>\n",
       "    </tr>\n",
       "  </tbody>\n",
       "</table>\n",
       "</div>"
      ],
      "text/plain": [
       "    dia  gasto_dia_reais  num_refeicoes  gasto_acum_reais\n",
       "0     1               26              1                26\n",
       "1     2               18              2                44\n",
       "2     3               37              3                81\n",
       "3     4               21              4               102\n",
       "4     5               39              5               141\n",
       "5     6                0              5               141\n",
       "6     7               41              6               182\n",
       "7     8               34              7               216\n",
       "8     9               53              8               269\n",
       "9    10               22              9               291\n",
       "10   11                8             10               299\n",
       "11   12               28             11               327\n",
       "12   13               36             12               363\n",
       "13   14               42             13               405\n",
       "14   15               72             15               477"
      ]
     },
     "execution_count": 4,
     "metadata": {},
     "output_type": "execute_result"
    }
   ],
   "source": [
    "dados.head(15)"
   ]
  },
  {
   "cell_type": "markdown",
   "id": "879388c3",
   "metadata": {},
   "source": [
    "### Valores faltantes"
   ]
  },
  {
   "cell_type": "code",
   "execution_count": 5,
   "id": "000ec2df",
   "metadata": {},
   "outputs": [
    {
     "data": {
      "text/plain": [
       "dia                 0\n",
       "gasto_dia_reais     0\n",
       "num_refeicoes       0\n",
       "gasto_acum_reais    0\n",
       "dtype: int64"
      ]
     },
     "execution_count": 5,
     "metadata": {},
     "output_type": "execute_result"
    }
   ],
   "source": [
    "dados.isna().sum()"
   ]
  },
  {
   "cell_type": "markdown",
   "id": "47c35655",
   "metadata": {},
   "source": [
    "Não há valores faltantes"
   ]
  },
  {
   "cell_type": "markdown",
   "id": "b94a11fa",
   "metadata": {},
   "source": [
    "### Validando o modelo"
   ]
  },
  {
   "cell_type": "code",
   "execution_count": 6,
   "id": "3798c23f",
   "metadata": {},
   "outputs": [
    {
     "data": {
      "image/png": "[encoded data removed]",
      "text/plain": [
       "<Figure size 720x720 with 20 Axes>"
      ]
     },
     "metadata": {
      "needs_background": "light"
     },
     "output_type": "display_data"
    }
   ],
   "source": [
    "sns.pairplot(dados);"
   ]
  },
  {
   "cell_type": "code",
   "execution_count": 7,
   "id": "4c4b9346",
   "metadata": {},
   "outputs": [
    {
     "data": {
      "text/plain": [
       "<AxesSubplot:>"
      ]
     },
     "execution_count": 7,
     "metadata": {},
     "output_type": "execute_result"
    },
    {
     "data": {
      "image/png": "[encoded data removed]",
      "text/plain": [
       "<Figure size 1008x792 with 2 Axes>"
      ]
     },
     "metadata": {
      "needs_background": "light"
     },
     "output_type": "display_data"
    }
   ],
   "source": [
    "correlacoes = dados.corr(method='pearson')\n",
    "plt.figure(figsize=(14, 11))\n",
    "sns.heatmap(correlacoes, annot=True)"
   ]
  },
  {
   "cell_type": "markdown",
   "id": "7ebbebc1",
   "metadata": {},
   "source": [
    "É possível perceber que há uma forte relação linear positiva entre a variável `dia` e as variáveis `num_refeicoes` e `gasto_acum_reais`.\n",
    "\n",
    "Vamos utilizar a variável `dia` como **independente** e as demais como **dependente**."
   ]
  },
  {
   "cell_type": "markdown",
   "id": "c8b7e2ab",
   "metadata": {},
   "source": [
    "## Validando o modelo Linear\n",
    "\n",
    "Precisamos ter em mente as premissas/suposições da regressão linear, caso contrário, o modelo falhará em fornecer bons resultados com os dados. Portanto, para um modelo bem-sucedido, é muito crucial validar essas suposições no conjunto de dados fornecido. Vamos tratar das seguintes premissas: \n",
    "\n",
    "**1.** O relacionamento entre a variável dependente e independente devem ser linear;\n",
    " \n",
    " \n",
    "**2.** Não deve haver correlação entre as variáveis independentes;\n",
    "\n",
    "\n",
    "**3.** Os resíduos devem ter uma distribuição normal;\n",
    "\n",
    "\n",
    "**4.** Os resíduos devem ter variância constante (homocedasticidade), porém não deve ter uma heterocedasticidade para ser utilizada na quantílica.\n",
    "\n",
    "\n",
    "**5.** Os resíduos não devem apresentar auto-correlação;\n"
   ]
  },
  {
   "cell_type": "markdown",
   "id": "b546588a",
   "metadata": {},
   "source": [
    "### 1. Já fizemos anteriormente."
   ]
  },
  {
   "cell_type": "markdown",
   "id": "3decdc33",
   "metadata": {},
   "source": [
    "### 2. Ausência de Multicolinearidade\n",
    "Somente entre as variáveis independentes, ou seja, a variável **`dia`**."
   ]
  },
  {
   "cell_type": "code",
   "execution_count": 8,
   "id": "b6e64bbb",
   "metadata": {},
   "outputs": [
    {
     "data": {
      "text/html": [
       "<div>\n",
       "<style scoped>\n",
       "    .dataframe tbody tr th:only-of-type {\n",
       "        vertical-align: middle;\n",
       "    }\n",
       "\n",
       "    .dataframe tbody tr th {\n",
       "        vertical-align: top;\n",
       "    }\n",
       "\n",
       "    .dataframe thead th {\n",
       "        text-align: right;\n",
       "    }\n",
       "</style>\n",
       "<table border=\"1\" class=\"dataframe\">\n",
       "  <thead>\n",
       "    <tr style=\"text-align: right;\">\n",
       "      <th></th>\n",
       "      <th>dia</th>\n",
       "      <th>gasto_dia_reais</th>\n",
       "      <th>num_refeicoes</th>\n",
       "      <th>gasto_acum_reais</th>\n",
       "    </tr>\n",
       "  </thead>\n",
       "  <tbody>\n",
       "    <tr>\n",
       "      <th>dia</th>\n",
       "      <td>True</td>\n",
       "      <td>False</td>\n",
       "      <td>True</td>\n",
       "      <td>True</td>\n",
       "    </tr>\n",
       "    <tr>\n",
       "      <th>gasto_dia_reais</th>\n",
       "      <td>False</td>\n",
       "      <td>True</td>\n",
       "      <td>False</td>\n",
       "      <td>False</td>\n",
       "    </tr>\n",
       "    <tr>\n",
       "      <th>num_refeicoes</th>\n",
       "      <td>True</td>\n",
       "      <td>False</td>\n",
       "      <td>True</td>\n",
       "      <td>True</td>\n",
       "    </tr>\n",
       "    <tr>\n",
       "      <th>gasto_acum_reais</th>\n",
       "      <td>True</td>\n",
       "      <td>False</td>\n",
       "      <td>True</td>\n",
       "      <td>True</td>\n",
       "    </tr>\n",
       "  </tbody>\n",
       "</table>\n",
       "</div>"
      ],
      "text/plain": [
       "                    dia  gasto_dia_reais  num_refeicoes  gasto_acum_reais\n",
       "dia                True            False           True              True\n",
       "gasto_dia_reais   False             True          False             False\n",
       "num_refeicoes      True            False           True              True\n",
       "gasto_acum_reais   True            False           True              True"
      ]
     },
     "execution_count": 8,
     "metadata": {},
     "output_type": "execute_result"
    }
   ],
   "source": [
    "correlacoes = dados.corr(method='spearman')\n",
    "correlacoes > 0.9"
   ]
  },
  {
   "cell_type": "markdown",
   "id": "f647f220",
   "metadata": {},
   "source": [
    "Temos a variável **`dia`** correlacionando com a variável **`num_refeicoes`** e a **`gasto_acum_reais`** (**multicolinearidade**). $(\\rho > 0.9)$"
   ]
  },
  {
   "cell_type": "markdown",
   "id": "ae500deb",
   "metadata": {},
   "source": [
    "### 3. Normalidade dos residuções"
   ]
  },
  {
   "cell_type": "markdown",
   "id": "9f9dcc0c",
   "metadata": {},
   "source": [
    "<center>$H_0\\colon P_{\\text{valor}} > 0.05$</center>\n",
    "<center>$H_a\\colon P_{\\text{valor}} \\leq 0.05$</center>\n",
    "\n",
    "Caso P valor maior que 0.05, rejeita-se a hipótese alternativa e aceita a nula, onde a distribuição é normal. Caso P valor for menor ou igual a 0.05, rejeita-se a hipótese nula e e aceita a alternativa, onde a distribuição é diferente de uma normal."
   ]
  },
  {
   "cell_type": "code",
   "execution_count": 9,
   "id": "73360736",
   "metadata": {},
   "outputs": [
    {
     "name": "stdout",
     "output_type": "stream",
     "text": [
      "Temos um P-Valor de: 4.715399882115889e-06\n",
      "Temos a Estatística do teste de: 0.8646501302719116\n"
     ]
    }
   ],
   "source": [
    "modelo1 = smf.ols('gasto_acum_reais ~ dia', data = dados).fit()\n",
    "residuos = modelo1.resid\n",
    "estatistica, p_valor = stats.shapiro(residuos)\n",
    "print(f'Temos um P-Valor de: {p_valor}\\nTemos a Estatística do teste de: {estatistica}')"
   ]
  },
  {
   "cell_type": "markdown",
   "id": "e39f92e9",
   "metadata": {},
   "source": [
    "Um P-Valor bem menor que 0.05, ou seja, uma distribuição diferente de uma normal."
   ]
  },
  {
   "cell_type": "code",
   "execution_count": 10,
   "id": "9e719707",
   "metadata": {},
   "outputs": [
    {
     "data": {
      "image/png": "[encoded data removed]",
      "text/plain": [
       "<Figure size 432x288 with 1 Axes>"
      ]
     },
     "metadata": {
      "needs_background": "light"
     },
     "output_type": "display_data"
    }
   ],
   "source": [
    "stats.probplot(residuos, dist='norm',plot=plt);"
   ]
  },
  {
   "cell_type": "markdown",
   "id": "735a0184",
   "metadata": {},
   "source": [
    "### 4. Teste da Homocedasticidade dos resíduos\n",
    "\n",
    "O **teste da homocedasticidade** serve para **vermos** se a **variância de erros é constante entre os dados** (no caso seria os resíduos). Ela é desejável em modelos de regressões simples, pois permite fazer modelos mais confiáveis.\n"
   ]
  },
  {
   "cell_type": "code",
   "execution_count": 11,
   "id": "63ea8503",
   "metadata": {},
   "outputs": [
    {
     "data": {
      "text/plain": [
       "Text(0, 0.5, 'Valores Preditos')"
      ]
     },
     "execution_count": 11,
     "metadata": {},
     "output_type": "execute_result"
    },
    {
     "data": {
      "image/png": "[encoded data removed]",
      "text/plain": [
       "<Figure size 432x288 with 1 Axes>"
      ]
     },
     "metadata": {
      "needs_background": "light"
     },
     "output_type": "display_data"
    }
   ],
   "source": [
    "plt.scatter(y=residuos, x=modelo1.predict(), color='red')\n",
    "plt.hlines(y=0, xmin=0, xmax=2000, color='orange')\n",
    "plt.xlabel('Resíduos')\n",
    "plt.ylabel('Valores Preditos')"
   ]
  },
  {
   "cell_type": "markdown",
   "id": "8ba0d7ec",
   "metadata": {},
   "source": [
    "#### 4.1 Teste de Breusch-pagan\n",
    "<center>$H_0\\colon P_{\\text{valor}} > 0.05$</center>\n",
    "<center>$H_a\\colon P_{\\text{valor}} \\leq 0.05$</center>\n",
    "\n",
    "Sendo a hipótese nula a existência de homocedasticidade e a hipótese alternativa a não existência da homocedasticidade"
   ]
  },
  {
   "cell_type": "code",
   "execution_count": 12,
   "id": "671a3107",
   "metadata": {},
   "outputs": [
    {
     "name": "stdout",
     "output_type": "stream",
     "text": [
      "O P valor é de 0.003451811166879094\n"
     ]
    }
   ],
   "source": [
    "estatistica, p, f, fp = sms.het_breuschpagan(modelo1.resid, modelo1.model.exog)\n",
    "print(f\"O P valor é de {p}\")"
   ]
  },
  {
   "cell_type": "markdown",
   "id": "06cbe8a7",
   "metadata": {},
   "source": [
    "Com o P-Valor menor que 0.05, temos Heterocedasticidade, ou seja, rejeitamos a hipótese nula e confirmamos que há erros de resíduos não constantes ao longo de toda a amostra."
   ]
  },
  {
   "cell_type": "markdown",
   "id": "3a094690",
   "metadata": {},
   "source": [
    "### 5. Independência nos resíduos\n",
    "\n",
    "Modelos que apresentam auto-correlação nos resíduos são claramente\n",
    "identificados através da análise de resíduos, podendo ser identificado quando os resíduos não se comportam de forma aleatória, ou seja, seguem um padrão, e demonstram uma falha grave na especificação do modelo para o conjunto de dados.\n",
    "\n",
    "Além da visualização gráfico, é possível validar se há auto-correlação nos resíduos, utilizando o teste estatístico chamado Durbin-Watson, que testa a hipótese nula de que os resíduos não são linearmente correlacionados automaticamente, o resultado final varia entre 0 e 4, e valores entre 1,5 <d <2,5 mostram que não há correlação."
   ]
  },
  {
   "cell_type": "code",
   "execution_count": 13,
   "id": "f06393fc",
   "metadata": {},
   "outputs": [
    {
     "data": {
      "text/plain": [
       "'Não há independência nos resíduos'"
      ]
     },
     "execution_count": 13,
     "metadata": {},
     "output_type": "execute_result"
    }
   ],
   "source": [
    "estatistica = statsmodels.stats.stattools.durbin_watson(modelo1.resid)\n",
    "\"Há independência nos resíduos\" if ((estatistica > 1.5) and (estatistica < 2.5)) else \"Não há independência nos resíduos\""
   ]
  },
  {
   "cell_type": "markdown",
   "id": "de06ff0d",
   "metadata": {},
   "source": [
    "## Modelo Ridge\n",
    "Utilizando o modelo pela biblioteca **`scikit-learn`**, temos que separar a variável independente (**`dia`** e **`num_refeicoes`**) e a variável dependente (**`gasto_acum_reais`**)."
   ]
  },
  {
   "cell_type": "code",
   "execution_count": 14,
   "id": "75f975ed",
   "metadata": {},
   "outputs": [],
   "source": [
    "x = dados.iloc[: , 0:3]\n",
    "x = x.drop(columns=['gasto_dia_reais']).values\n",
    "\n",
    "y = dados.iloc[: , 3]\n",
    "y = y.drop(columns=['gasto_dia_reais']).values"
   ]
  },
  {
   "cell_type": "code",
   "execution_count": 15,
   "id": "1c407e1b",
   "metadata": {},
   "outputs": [
    {
     "data": {
      "text/plain": [
       "0.9996807593215069"
      ]
     },
     "execution_count": 15,
     "metadata": {},
     "output_type": "execute_result"
    }
   ],
   "source": [
    "# Deve-se escolher o melhor parâmetro de regularização (alpha ou lambda)\n",
    "modelo_ridge = Ridge(alpha = 0)\n",
    "modelo_ridge.fit(x, y) # X = Duas variáveis independentes (dia e num_refeicoes) e Y = Uma variável dependente (gasto_acum_reais)\n",
    "modelo_ridge.score(x,y)"
   ]
  },
  {
   "cell_type": "markdown",
   "id": "fef86bce",
   "metadata": {},
   "source": [
    "Um bom score de regularização é aquele que mais se aproxima de 1"
   ]
  },
  {
   "cell_type": "code",
   "execution_count": 16,
   "id": "152c16e3",
   "metadata": {},
   "outputs": [
    {
     "name": "stdout",
     "output_type": "stream",
     "text": [
      "Intercepto: 2.6345750647848263 Coeficiente: [ 4.89145178 25.63954273]\n"
     ]
    }
   ],
   "source": [
    "print(f'Intercepto: {modelo_ridge.intercept_} Coeficiente: {modelo_ridge.coef_}')"
   ]
  },
  {
   "cell_type": "markdown",
   "id": "a2cdd21d",
   "metadata": {},
   "source": [
    "$\\text{Equação:}$\n",
    "\n",
    "\n",
    "$$\\text{gasto_acum} = 2,6346 + 4,8915 \\cdot \\text{dia} + 25,6395 \\cdot \\text{num_refeicoes}$$"
   ]
  },
  {
   "cell_type": "markdown",
   "id": "4a40b2ec",
   "metadata": {},
   "source": [
    "### Criando a coluna de previsão dos valores"
   ]
  },
  {
   "cell_type": "code",
   "execution_count": 17,
   "id": "30b0fef0",
   "metadata": {},
   "outputs": [
    {
     "data": {
      "text/plain": [
       "array([  33.16556957,   63.69656407,   94.22755858,  124.75855308,\n",
       "        155.28954758,  160.18099936,  190.71199387,  221.24298837,\n",
       "        251.77398287,  282.30497738,  312.83597188,  343.36696638,\n",
       "        373.89796089,  404.42895539,  460.59949262,  491.13048712,\n",
       "        521.66148163,  552.19247613,  582.72347063,  613.25446514,\n",
       "        643.78545964,  674.31645415,  704.84744865,  735.37844315,\n",
       "        765.90943766,  796.44043216,  826.97142666,  857.50242117,\n",
       "        888.03341567,  918.56441018,  949.09540468,  979.62639918,\n",
       "       1010.15739369, 1040.68838819, 1071.21938269, 1101.7503772 ,\n",
       "       1132.2813717 , 1162.81236621, 1193.34336071, 1223.87435521,\n",
       "       1254.40534972, 1284.93634422, 1315.46733872, 1345.99833323,\n",
       "       1376.52932773, 1407.06032223, 1437.59131674, 1468.12231124,\n",
       "       1498.65330575, 1529.18430025, 1559.71529475, 1590.24628926,\n",
       "       1620.77728376, 1651.30827826, 1681.83927277, 1712.37026727,\n",
       "       1742.90126178, 1773.43225628, 1803.96325078, 1834.49424529,\n",
       "       1865.02523979, 1998.1144052 , 2028.6453997 , 2059.1763942 ])"
      ]
     },
     "execution_count": 17,
     "metadata": {},
     "output_type": "execute_result"
    }
   ],
   "source": [
    "previsao = modelo_ridge.predict(x)\n",
    "previsao"
   ]
  },
  {
   "cell_type": "code",
   "execution_count": 18,
   "id": "cd6b7883",
   "metadata": {},
   "outputs": [
    {
     "data": {
      "text/html": [
       "<div>\n",
       "<style scoped>\n",
       "    .dataframe tbody tr th:only-of-type {\n",
       "        vertical-align: middle;\n",
       "    }\n",
       "\n",
       "    .dataframe tbody tr th {\n",
       "        vertical-align: top;\n",
       "    }\n",
       "\n",
       "    .dataframe thead th {\n",
       "        text-align: right;\n",
       "    }\n",
       "</style>\n",
       "<table border=\"1\" class=\"dataframe\">\n",
       "  <thead>\n",
       "    <tr style=\"text-align: right;\">\n",
       "      <th></th>\n",
       "      <th>dia</th>\n",
       "      <th>gasto_dia_reais</th>\n",
       "      <th>num_refeicoes</th>\n",
       "      <th>gasto_acum_reais</th>\n",
       "      <th>Previsão</th>\n",
       "    </tr>\n",
       "  </thead>\n",
       "  <tbody>\n",
       "    <tr>\n",
       "      <th>0</th>\n",
       "      <td>1</td>\n",
       "      <td>26</td>\n",
       "      <td>1</td>\n",
       "      <td>26</td>\n",
       "      <td>33.165570</td>\n",
       "    </tr>\n",
       "    <tr>\n",
       "      <th>1</th>\n",
       "      <td>2</td>\n",
       "      <td>18</td>\n",
       "      <td>2</td>\n",
       "      <td>44</td>\n",
       "      <td>63.696564</td>\n",
       "    </tr>\n",
       "    <tr>\n",
       "      <th>2</th>\n",
       "      <td>3</td>\n",
       "      <td>37</td>\n",
       "      <td>3</td>\n",
       "      <td>81</td>\n",
       "      <td>94.227559</td>\n",
       "    </tr>\n",
       "    <tr>\n",
       "      <th>3</th>\n",
       "      <td>4</td>\n",
       "      <td>21</td>\n",
       "      <td>4</td>\n",
       "      <td>102</td>\n",
       "      <td>124.758553</td>\n",
       "    </tr>\n",
       "    <tr>\n",
       "      <th>4</th>\n",
       "      <td>5</td>\n",
       "      <td>39</td>\n",
       "      <td>5</td>\n",
       "      <td>141</td>\n",
       "      <td>155.289548</td>\n",
       "    </tr>\n",
       "    <tr>\n",
       "      <th>5</th>\n",
       "      <td>6</td>\n",
       "      <td>0</td>\n",
       "      <td>5</td>\n",
       "      <td>141</td>\n",
       "      <td>160.180999</td>\n",
       "    </tr>\n",
       "    <tr>\n",
       "      <th>6</th>\n",
       "      <td>7</td>\n",
       "      <td>41</td>\n",
       "      <td>6</td>\n",
       "      <td>182</td>\n",
       "      <td>190.711994</td>\n",
       "    </tr>\n",
       "    <tr>\n",
       "      <th>7</th>\n",
       "      <td>8</td>\n",
       "      <td>34</td>\n",
       "      <td>7</td>\n",
       "      <td>216</td>\n",
       "      <td>221.242988</td>\n",
       "    </tr>\n",
       "    <tr>\n",
       "      <th>8</th>\n",
       "      <td>9</td>\n",
       "      <td>53</td>\n",
       "      <td>8</td>\n",
       "      <td>269</td>\n",
       "      <td>251.773983</td>\n",
       "    </tr>\n",
       "    <tr>\n",
       "      <th>9</th>\n",
       "      <td>10</td>\n",
       "      <td>22</td>\n",
       "      <td>9</td>\n",
       "      <td>291</td>\n",
       "      <td>282.304977</td>\n",
       "    </tr>\n",
       "    <tr>\n",
       "      <th>10</th>\n",
       "      <td>11</td>\n",
       "      <td>8</td>\n",
       "      <td>10</td>\n",
       "      <td>299</td>\n",
       "      <td>312.835972</td>\n",
       "    </tr>\n",
       "    <tr>\n",
       "      <th>11</th>\n",
       "      <td>12</td>\n",
       "      <td>28</td>\n",
       "      <td>11</td>\n",
       "      <td>327</td>\n",
       "      <td>343.366966</td>\n",
       "    </tr>\n",
       "    <tr>\n",
       "      <th>12</th>\n",
       "      <td>13</td>\n",
       "      <td>36</td>\n",
       "      <td>12</td>\n",
       "      <td>363</td>\n",
       "      <td>373.897961</td>\n",
       "    </tr>\n",
       "    <tr>\n",
       "      <th>13</th>\n",
       "      <td>14</td>\n",
       "      <td>42</td>\n",
       "      <td>13</td>\n",
       "      <td>405</td>\n",
       "      <td>404.428955</td>\n",
       "    </tr>\n",
       "    <tr>\n",
       "      <th>14</th>\n",
       "      <td>15</td>\n",
       "      <td>72</td>\n",
       "      <td>15</td>\n",
       "      <td>477</td>\n",
       "      <td>460.599493</td>\n",
       "    </tr>\n",
       "    <tr>\n",
       "      <th>15</th>\n",
       "      <td>16</td>\n",
       "      <td>20</td>\n",
       "      <td>16</td>\n",
       "      <td>497</td>\n",
       "      <td>491.130487</td>\n",
       "    </tr>\n",
       "    <tr>\n",
       "      <th>16</th>\n",
       "      <td>17</td>\n",
       "      <td>29</td>\n",
       "      <td>17</td>\n",
       "      <td>526</td>\n",
       "      <td>521.661482</td>\n",
       "    </tr>\n",
       "    <tr>\n",
       "      <th>17</th>\n",
       "      <td>18</td>\n",
       "      <td>45</td>\n",
       "      <td>18</td>\n",
       "      <td>571</td>\n",
       "      <td>552.192476</td>\n",
       "    </tr>\n",
       "    <tr>\n",
       "      <th>18</th>\n",
       "      <td>19</td>\n",
       "      <td>26</td>\n",
       "      <td>19</td>\n",
       "      <td>597</td>\n",
       "      <td>582.723471</td>\n",
       "    </tr>\n",
       "    <tr>\n",
       "      <th>19</th>\n",
       "      <td>20</td>\n",
       "      <td>29</td>\n",
       "      <td>20</td>\n",
       "      <td>626</td>\n",
       "      <td>613.254465</td>\n",
       "    </tr>\n",
       "    <tr>\n",
       "      <th>20</th>\n",
       "      <td>21</td>\n",
       "      <td>30</td>\n",
       "      <td>21</td>\n",
       "      <td>656</td>\n",
       "      <td>643.785460</td>\n",
       "    </tr>\n",
       "    <tr>\n",
       "      <th>21</th>\n",
       "      <td>22</td>\n",
       "      <td>28</td>\n",
       "      <td>22</td>\n",
       "      <td>684</td>\n",
       "      <td>674.316454</td>\n",
       "    </tr>\n",
       "    <tr>\n",
       "      <th>22</th>\n",
       "      <td>23</td>\n",
       "      <td>42</td>\n",
       "      <td>23</td>\n",
       "      <td>726</td>\n",
       "      <td>704.847449</td>\n",
       "    </tr>\n",
       "    <tr>\n",
       "      <th>23</th>\n",
       "      <td>24</td>\n",
       "      <td>21</td>\n",
       "      <td>24</td>\n",
       "      <td>747</td>\n",
       "      <td>735.378443</td>\n",
       "    </tr>\n",
       "    <tr>\n",
       "      <th>24</th>\n",
       "      <td>25</td>\n",
       "      <td>29</td>\n",
       "      <td>25</td>\n",
       "      <td>776</td>\n",
       "      <td>765.909438</td>\n",
       "    </tr>\n",
       "    <tr>\n",
       "      <th>25</th>\n",
       "      <td>26</td>\n",
       "      <td>26</td>\n",
       "      <td>26</td>\n",
       "      <td>802</td>\n",
       "      <td>796.440432</td>\n",
       "    </tr>\n",
       "    <tr>\n",
       "      <th>26</th>\n",
       "      <td>27</td>\n",
       "      <td>27</td>\n",
       "      <td>27</td>\n",
       "      <td>829</td>\n",
       "      <td>826.971427</td>\n",
       "    </tr>\n",
       "    <tr>\n",
       "      <th>27</th>\n",
       "      <td>28</td>\n",
       "      <td>22</td>\n",
       "      <td>28</td>\n",
       "      <td>851</td>\n",
       "      <td>857.502421</td>\n",
       "    </tr>\n",
       "    <tr>\n",
       "      <th>28</th>\n",
       "      <td>29</td>\n",
       "      <td>48</td>\n",
       "      <td>29</td>\n",
       "      <td>899</td>\n",
       "      <td>888.033416</td>\n",
       "    </tr>\n",
       "    <tr>\n",
       "      <th>29</th>\n",
       "      <td>30</td>\n",
       "      <td>32</td>\n",
       "      <td>30</td>\n",
       "      <td>931</td>\n",
       "      <td>918.564410</td>\n",
       "    </tr>\n",
       "  </tbody>\n",
       "</table>\n",
       "</div>"
      ],
      "text/plain": [
       "    dia  gasto_dia_reais  num_refeicoes  gasto_acum_reais    Previsão\n",
       "0     1               26              1                26   33.165570\n",
       "1     2               18              2                44   63.696564\n",
       "2     3               37              3                81   94.227559\n",
       "3     4               21              4               102  124.758553\n",
       "4     5               39              5               141  155.289548\n",
       "5     6                0              5               141  160.180999\n",
       "6     7               41              6               182  190.711994\n",
       "7     8               34              7               216  221.242988\n",
       "8     9               53              8               269  251.773983\n",
       "9    10               22              9               291  282.304977\n",
       "10   11                8             10               299  312.835972\n",
       "11   12               28             11               327  343.366966\n",
       "12   13               36             12               363  373.897961\n",
       "13   14               42             13               405  404.428955\n",
       "14   15               72             15               477  460.599493\n",
       "15   16               20             16               497  491.130487\n",
       "16   17               29             17               526  521.661482\n",
       "17   18               45             18               571  552.192476\n",
       "18   19               26             19               597  582.723471\n",
       "19   20               29             20               626  613.254465\n",
       "20   21               30             21               656  643.785460\n",
       "21   22               28             22               684  674.316454\n",
       "22   23               42             23               726  704.847449\n",
       "23   24               21             24               747  735.378443\n",
       "24   25               29             25               776  765.909438\n",
       "25   26               26             26               802  796.440432\n",
       "26   27               27             27               829  826.971427\n",
       "27   28               22             28               851  857.502421\n",
       "28   29               48             29               899  888.033416\n",
       "29   30               32             30               931  918.564410"
      ]
     },
     "execution_count": 18,
     "metadata": {},
     "output_type": "execute_result"
    }
   ],
   "source": [
    "dados['Previsão'] = modelo_ridge.predict(x)\n",
    "dados.head(30)"
   ]
  },
  {
   "cell_type": "markdown",
   "id": "525088cc",
   "metadata": {},
   "source": [
    "### Erro absuluto\n",
    "\n",
    "$$\\text{Erro Absoluto} = \\text{Dado de Treino} - \\text{Dados de Teste}$$"
   ]
  },
  {
   "cell_type": "code",
   "execution_count": 19,
   "id": "2087816d",
   "metadata": {},
   "outputs": [],
   "source": [
    "dados['Erro_abs'] = abs(dados['gasto_acum_reais'] - dados['Previsão'])"
   ]
  },
  {
   "cell_type": "code",
   "execution_count": 20,
   "id": "bb9801e3",
   "metadata": {},
   "outputs": [
    {
     "data": {
      "text/html": [
       "<div>\n",
       "<style scoped>\n",
       "    .dataframe tbody tr th:only-of-type {\n",
       "        vertical-align: middle;\n",
       "    }\n",
       "\n",
       "    .dataframe tbody tr th {\n",
       "        vertical-align: top;\n",
       "    }\n",
       "\n",
       "    .dataframe thead th {\n",
       "        text-align: right;\n",
       "    }\n",
       "</style>\n",
       "<table border=\"1\" class=\"dataframe\">\n",
       "  <thead>\n",
       "    <tr style=\"text-align: right;\">\n",
       "      <th></th>\n",
       "      <th>dia</th>\n",
       "      <th>gasto_dia_reais</th>\n",
       "      <th>num_refeicoes</th>\n",
       "      <th>gasto_acum_reais</th>\n",
       "      <th>Previsão</th>\n",
       "      <th>Erro_abs</th>\n",
       "    </tr>\n",
       "  </thead>\n",
       "  <tbody>\n",
       "    <tr>\n",
       "      <th>0</th>\n",
       "      <td>1</td>\n",
       "      <td>26</td>\n",
       "      <td>1</td>\n",
       "      <td>26</td>\n",
       "      <td>33.165570</td>\n",
       "      <td>7.165570</td>\n",
       "    </tr>\n",
       "    <tr>\n",
       "      <th>1</th>\n",
       "      <td>2</td>\n",
       "      <td>18</td>\n",
       "      <td>2</td>\n",
       "      <td>44</td>\n",
       "      <td>63.696564</td>\n",
       "      <td>19.696564</td>\n",
       "    </tr>\n",
       "    <tr>\n",
       "      <th>2</th>\n",
       "      <td>3</td>\n",
       "      <td>37</td>\n",
       "      <td>3</td>\n",
       "      <td>81</td>\n",
       "      <td>94.227559</td>\n",
       "      <td>13.227559</td>\n",
       "    </tr>\n",
       "    <tr>\n",
       "      <th>3</th>\n",
       "      <td>4</td>\n",
       "      <td>21</td>\n",
       "      <td>4</td>\n",
       "      <td>102</td>\n",
       "      <td>124.758553</td>\n",
       "      <td>22.758553</td>\n",
       "    </tr>\n",
       "    <tr>\n",
       "      <th>4</th>\n",
       "      <td>5</td>\n",
       "      <td>39</td>\n",
       "      <td>5</td>\n",
       "      <td>141</td>\n",
       "      <td>155.289548</td>\n",
       "      <td>14.289548</td>\n",
       "    </tr>\n",
       "    <tr>\n",
       "      <th>5</th>\n",
       "      <td>6</td>\n",
       "      <td>0</td>\n",
       "      <td>5</td>\n",
       "      <td>141</td>\n",
       "      <td>160.180999</td>\n",
       "      <td>19.180999</td>\n",
       "    </tr>\n",
       "    <tr>\n",
       "      <th>6</th>\n",
       "      <td>7</td>\n",
       "      <td>41</td>\n",
       "      <td>6</td>\n",
       "      <td>182</td>\n",
       "      <td>190.711994</td>\n",
       "      <td>8.711994</td>\n",
       "    </tr>\n",
       "    <tr>\n",
       "      <th>7</th>\n",
       "      <td>8</td>\n",
       "      <td>34</td>\n",
       "      <td>7</td>\n",
       "      <td>216</td>\n",
       "      <td>221.242988</td>\n",
       "      <td>5.242988</td>\n",
       "    </tr>\n",
       "    <tr>\n",
       "      <th>8</th>\n",
       "      <td>9</td>\n",
       "      <td>53</td>\n",
       "      <td>8</td>\n",
       "      <td>269</td>\n",
       "      <td>251.773983</td>\n",
       "      <td>17.226017</td>\n",
       "    </tr>\n",
       "    <tr>\n",
       "      <th>9</th>\n",
       "      <td>10</td>\n",
       "      <td>22</td>\n",
       "      <td>9</td>\n",
       "      <td>291</td>\n",
       "      <td>282.304977</td>\n",
       "      <td>8.695023</td>\n",
       "    </tr>\n",
       "    <tr>\n",
       "      <th>10</th>\n",
       "      <td>11</td>\n",
       "      <td>8</td>\n",
       "      <td>10</td>\n",
       "      <td>299</td>\n",
       "      <td>312.835972</td>\n",
       "      <td>13.835972</td>\n",
       "    </tr>\n",
       "    <tr>\n",
       "      <th>11</th>\n",
       "      <td>12</td>\n",
       "      <td>28</td>\n",
       "      <td>11</td>\n",
       "      <td>327</td>\n",
       "      <td>343.366966</td>\n",
       "      <td>16.366966</td>\n",
       "    </tr>\n",
       "    <tr>\n",
       "      <th>12</th>\n",
       "      <td>13</td>\n",
       "      <td>36</td>\n",
       "      <td>12</td>\n",
       "      <td>363</td>\n",
       "      <td>373.897961</td>\n",
       "      <td>10.897961</td>\n",
       "    </tr>\n",
       "    <tr>\n",
       "      <th>13</th>\n",
       "      <td>14</td>\n",
       "      <td>42</td>\n",
       "      <td>13</td>\n",
       "      <td>405</td>\n",
       "      <td>404.428955</td>\n",
       "      <td>0.571045</td>\n",
       "    </tr>\n",
       "    <tr>\n",
       "      <th>14</th>\n",
       "      <td>15</td>\n",
       "      <td>72</td>\n",
       "      <td>15</td>\n",
       "      <td>477</td>\n",
       "      <td>460.599493</td>\n",
       "      <td>16.400507</td>\n",
       "    </tr>\n",
       "    <tr>\n",
       "      <th>15</th>\n",
       "      <td>16</td>\n",
       "      <td>20</td>\n",
       "      <td>16</td>\n",
       "      <td>497</td>\n",
       "      <td>491.130487</td>\n",
       "      <td>5.869513</td>\n",
       "    </tr>\n",
       "    <tr>\n",
       "      <th>16</th>\n",
       "      <td>17</td>\n",
       "      <td>29</td>\n",
       "      <td>17</td>\n",
       "      <td>526</td>\n",
       "      <td>521.661482</td>\n",
       "      <td>4.338518</td>\n",
       "    </tr>\n",
       "    <tr>\n",
       "      <th>17</th>\n",
       "      <td>18</td>\n",
       "      <td>45</td>\n",
       "      <td>18</td>\n",
       "      <td>571</td>\n",
       "      <td>552.192476</td>\n",
       "      <td>18.807524</td>\n",
       "    </tr>\n",
       "    <tr>\n",
       "      <th>18</th>\n",
       "      <td>19</td>\n",
       "      <td>26</td>\n",
       "      <td>19</td>\n",
       "      <td>597</td>\n",
       "      <td>582.723471</td>\n",
       "      <td>14.276529</td>\n",
       "    </tr>\n",
       "    <tr>\n",
       "      <th>19</th>\n",
       "      <td>20</td>\n",
       "      <td>29</td>\n",
       "      <td>20</td>\n",
       "      <td>626</td>\n",
       "      <td>613.254465</td>\n",
       "      <td>12.745535</td>\n",
       "    </tr>\n",
       "    <tr>\n",
       "      <th>20</th>\n",
       "      <td>21</td>\n",
       "      <td>30</td>\n",
       "      <td>21</td>\n",
       "      <td>656</td>\n",
       "      <td>643.785460</td>\n",
       "      <td>12.214540</td>\n",
       "    </tr>\n",
       "    <tr>\n",
       "      <th>21</th>\n",
       "      <td>22</td>\n",
       "      <td>28</td>\n",
       "      <td>22</td>\n",
       "      <td>684</td>\n",
       "      <td>674.316454</td>\n",
       "      <td>9.683546</td>\n",
       "    </tr>\n",
       "    <tr>\n",
       "      <th>22</th>\n",
       "      <td>23</td>\n",
       "      <td>42</td>\n",
       "      <td>23</td>\n",
       "      <td>726</td>\n",
       "      <td>704.847449</td>\n",
       "      <td>21.152551</td>\n",
       "    </tr>\n",
       "    <tr>\n",
       "      <th>23</th>\n",
       "      <td>24</td>\n",
       "      <td>21</td>\n",
       "      <td>24</td>\n",
       "      <td>747</td>\n",
       "      <td>735.378443</td>\n",
       "      <td>11.621557</td>\n",
       "    </tr>\n",
       "    <tr>\n",
       "      <th>24</th>\n",
       "      <td>25</td>\n",
       "      <td>29</td>\n",
       "      <td>25</td>\n",
       "      <td>776</td>\n",
       "      <td>765.909438</td>\n",
       "      <td>10.090562</td>\n",
       "    </tr>\n",
       "    <tr>\n",
       "      <th>25</th>\n",
       "      <td>26</td>\n",
       "      <td>26</td>\n",
       "      <td>26</td>\n",
       "      <td>802</td>\n",
       "      <td>796.440432</td>\n",
       "      <td>5.559568</td>\n",
       "    </tr>\n",
       "    <tr>\n",
       "      <th>26</th>\n",
       "      <td>27</td>\n",
       "      <td>27</td>\n",
       "      <td>27</td>\n",
       "      <td>829</td>\n",
       "      <td>826.971427</td>\n",
       "      <td>2.028573</td>\n",
       "    </tr>\n",
       "    <tr>\n",
       "      <th>27</th>\n",
       "      <td>28</td>\n",
       "      <td>22</td>\n",
       "      <td>28</td>\n",
       "      <td>851</td>\n",
       "      <td>857.502421</td>\n",
       "      <td>6.502421</td>\n",
       "    </tr>\n",
       "    <tr>\n",
       "      <th>28</th>\n",
       "      <td>29</td>\n",
       "      <td>48</td>\n",
       "      <td>29</td>\n",
       "      <td>899</td>\n",
       "      <td>888.033416</td>\n",
       "      <td>10.966584</td>\n",
       "    </tr>\n",
       "    <tr>\n",
       "      <th>29</th>\n",
       "      <td>30</td>\n",
       "      <td>32</td>\n",
       "      <td>30</td>\n",
       "      <td>931</td>\n",
       "      <td>918.564410</td>\n",
       "      <td>12.435590</td>\n",
       "    </tr>\n",
       "  </tbody>\n",
       "</table>\n",
       "</div>"
      ],
      "text/plain": [
       "    dia  gasto_dia_reais  num_refeicoes  gasto_acum_reais    Previsão  \\\n",
       "0     1               26              1                26   33.165570   \n",
       "1     2               18              2                44   63.696564   \n",
       "2     3               37              3                81   94.227559   \n",
       "3     4               21              4               102  124.758553   \n",
       "4     5               39              5               141  155.289548   \n",
       "5     6                0              5               141  160.180999   \n",
       "6     7               41              6               182  190.711994   \n",
       "7     8               34              7               216  221.242988   \n",
       "8     9               53              8               269  251.773983   \n",
       "9    10               22              9               291  282.304977   \n",
       "10   11                8             10               299  312.835972   \n",
       "11   12               28             11               327  343.366966   \n",
       "12   13               36             12               363  373.897961   \n",
       "13   14               42             13               405  404.428955   \n",
       "14   15               72             15               477  460.599493   \n",
       "15   16               20             16               497  491.130487   \n",
       "16   17               29             17               526  521.661482   \n",
       "17   18               45             18               571  552.192476   \n",
       "18   19               26             19               597  582.723471   \n",
       "19   20               29             20               626  613.254465   \n",
       "20   21               30             21               656  643.785460   \n",
       "21   22               28             22               684  674.316454   \n",
       "22   23               42             23               726  704.847449   \n",
       "23   24               21             24               747  735.378443   \n",
       "24   25               29             25               776  765.909438   \n",
       "25   26               26             26               802  796.440432   \n",
       "26   27               27             27               829  826.971427   \n",
       "27   28               22             28               851  857.502421   \n",
       "28   29               48             29               899  888.033416   \n",
       "29   30               32             30               931  918.564410   \n",
       "\n",
       "     Erro_abs  \n",
       "0    7.165570  \n",
       "1   19.696564  \n",
       "2   13.227559  \n",
       "3   22.758553  \n",
       "4   14.289548  \n",
       "5   19.180999  \n",
       "6    8.711994  \n",
       "7    5.242988  \n",
       "8   17.226017  \n",
       "9    8.695023  \n",
       "10  13.835972  \n",
       "11  16.366966  \n",
       "12  10.897961  \n",
       "13   0.571045  \n",
       "14  16.400507  \n",
       "15   5.869513  \n",
       "16   4.338518  \n",
       "17  18.807524  \n",
       "18  14.276529  \n",
       "19  12.745535  \n",
       "20  12.214540  \n",
       "21   9.683546  \n",
       "22  21.152551  \n",
       "23  11.621557  \n",
       "24  10.090562  \n",
       "25   5.559568  \n",
       "26   2.028573  \n",
       "27   6.502421  \n",
       "28  10.966584  \n",
       "29  12.435590  "
      ]
     },
     "execution_count": 20,
     "metadata": {},
     "output_type": "execute_result"
    }
   ],
   "source": [
    "dados.head(30)"
   ]
  },
  {
   "cell_type": "code",
   "execution_count": 21,
   "id": "11835b97",
   "metadata": {},
   "outputs": [
    {
     "data": {
      "text/html": [
       "<div>\n",
       "<style scoped>\n",
       "    .dataframe tbody tr th:only-of-type {\n",
       "        vertical-align: middle;\n",
       "    }\n",
       "\n",
       "    .dataframe tbody tr th {\n",
       "        vertical-align: top;\n",
       "    }\n",
       "\n",
       "    .dataframe thead th {\n",
       "        text-align: right;\n",
       "    }\n",
       "</style>\n",
       "<table border=\"1\" class=\"dataframe\">\n",
       "  <thead>\n",
       "    <tr style=\"text-align: right;\">\n",
       "      <th></th>\n",
       "      <th>dia</th>\n",
       "      <th>gasto_dia_reais</th>\n",
       "      <th>num_refeicoes</th>\n",
       "      <th>gasto_acum_reais</th>\n",
       "      <th>Previsão</th>\n",
       "      <th>Erro_abs</th>\n",
       "    </tr>\n",
       "  </thead>\n",
       "  <tbody>\n",
       "    <tr>\n",
       "      <th>count</th>\n",
       "      <td>64.000000</td>\n",
       "      <td>64.000000</td>\n",
       "      <td>64.000000</td>\n",
       "      <td>64.000000</td>\n",
       "      <td>64.000000</td>\n",
       "      <td>64.000000</td>\n",
       "    </tr>\n",
       "    <tr>\n",
       "      <th>mean</th>\n",
       "      <td>32.500000</td>\n",
       "      <td>32.312500</td>\n",
       "      <td>32.546875</td>\n",
       "      <td>996.093750</td>\n",
       "      <td>996.093750</td>\n",
       "      <td>8.807401</td>\n",
       "    </tr>\n",
       "    <tr>\n",
       "      <th>std</th>\n",
       "      <td>18.618987</td>\n",
       "      <td>15.443574</td>\n",
       "      <td>19.121109</td>\n",
       "      <td>581.353012</td>\n",
       "      <td>581.260209</td>\n",
       "      <td>5.393756</td>\n",
       "    </tr>\n",
       "    <tr>\n",
       "      <th>min</th>\n",
       "      <td>1.000000</td>\n",
       "      <td>0.000000</td>\n",
       "      <td>1.000000</td>\n",
       "      <td>26.000000</td>\n",
       "      <td>33.165570</td>\n",
       "      <td>0.405350</td>\n",
       "    </tr>\n",
       "    <tr>\n",
       "      <th>25%</th>\n",
       "      <td>16.750000</td>\n",
       "      <td>26.000000</td>\n",
       "      <td>16.750000</td>\n",
       "      <td>518.750000</td>\n",
       "      <td>514.028733</td>\n",
       "      <td>4.800202</td>\n",
       "    </tr>\n",
       "    <tr>\n",
       "      <th>50%</th>\n",
       "      <td>32.500000</td>\n",
       "      <td>29.000000</td>\n",
       "      <td>32.500000</td>\n",
       "      <td>1006.000000</td>\n",
       "      <td>994.891896</td>\n",
       "      <td>8.420470</td>\n",
       "    </tr>\n",
       "    <tr>\n",
       "      <th>75%</th>\n",
       "      <td>48.250000</td>\n",
       "      <td>37.000000</td>\n",
       "      <td>48.250000</td>\n",
       "      <td>1471.750000</td>\n",
       "      <td>1475.755060</td>\n",
       "      <td>12.139439</td>\n",
       "    </tr>\n",
       "    <tr>\n",
       "      <th>max</th>\n",
       "      <td>64.000000</td>\n",
       "      <td>122.000000</td>\n",
       "      <td>68.000000</td>\n",
       "      <td>2068.000000</td>\n",
       "      <td>2059.176394</td>\n",
       "      <td>22.758553</td>\n",
       "    </tr>\n",
       "  </tbody>\n",
       "</table>\n",
       "</div>"
      ],
      "text/plain": [
       "             dia  gasto_dia_reais  num_refeicoes  gasto_acum_reais  \\\n",
       "count  64.000000        64.000000      64.000000         64.000000   \n",
       "mean   32.500000        32.312500      32.546875        996.093750   \n",
       "std    18.618987        15.443574      19.121109        581.353012   \n",
       "min     1.000000         0.000000       1.000000         26.000000   \n",
       "25%    16.750000        26.000000      16.750000        518.750000   \n",
       "50%    32.500000        29.000000      32.500000       1006.000000   \n",
       "75%    48.250000        37.000000      48.250000       1471.750000   \n",
       "max    64.000000       122.000000      68.000000       2068.000000   \n",
       "\n",
       "          Previsão   Erro_abs  \n",
       "count    64.000000  64.000000  \n",
       "mean    996.093750   8.807401  \n",
       "std     581.260209   5.393756  \n",
       "min      33.165570   0.405350  \n",
       "25%     514.028733   4.800202  \n",
       "50%     994.891896   8.420470  \n",
       "75%    1475.755060  12.139439  \n",
       "max    2059.176394  22.758553  "
      ]
     },
     "execution_count": 21,
     "metadata": {},
     "output_type": "execute_result"
    }
   ],
   "source": [
    "dados.describe()"
   ]
  },
  {
   "cell_type": "markdown",
   "id": "326bffa8",
   "metadata": {},
   "source": [
    "### Parâmetros de validação do modelo"
   ]
  },
  {
   "cell_type": "markdown",
   "id": "45c710e6",
   "metadata": {},
   "source": [
    "#### Erro médio absoluto (MAE)"
   ]
  },
  {
   "cell_type": "code",
   "execution_count": 22,
   "id": "76010a67",
   "metadata": {},
   "outputs": [
    {
     "data": {
      "text/plain": [
       "8.807401102211166"
      ]
     },
     "execution_count": 22,
     "metadata": {},
     "output_type": "execute_result"
    }
   ],
   "source": [
    "dados['Erro_abs'].mean()"
   ]
  },
  {
   "cell_type": "markdown",
   "id": "b632ec4a",
   "metadata": {},
   "source": [
    "#### Erro médio quadrático (MSE)"
   ]
  },
  {
   "cell_type": "code",
   "execution_count": 42,
   "id": "0722c04e",
   "metadata": {},
   "outputs": [
    {
     "name": "stdout",
     "output_type": "stream",
     "text": [
      "106.2083481186448\n"
     ]
    }
   ],
   "source": [
    "total = 0 \n",
    "\n",
    "for row in dados['Erro_abs']:\n",
    "    total = total + (row)**2\n",
    "    \n",
    "print(total/dados.shape[0])"
   ]
  },
  {
   "cell_type": "markdown",
   "id": "a1f61776",
   "metadata": {},
   "source": [
    "## Modelo Lasso\n",
    "\n",
    "Vamos utilizar as mesmas variáveis independents (X) e dependentes (Y)"
   ]
  },
  {
   "cell_type": "code",
   "execution_count": 24,
   "id": "5848bea8",
   "metadata": {},
   "outputs": [
    {
     "data": {
      "text/plain": [
       "0.9996550235468806"
      ]
     },
     "execution_count": 24,
     "metadata": {},
     "output_type": "execute_result"
    }
   ],
   "source": [
    "# Deve-se escolher o melhor parâmetro de regularização (alpha)\n",
    "\n",
    "modelo_lasso = Lasso(alpha = 28)\n",
    "modelo_lasso.fit(x, y) # Primeiro a independente depois a dependente\n",
    "modelo_lasso.score(x, y)"
   ]
  },
  {
   "cell_type": "markdown",
   "id": "20dbdc80",
   "metadata": {},
   "source": [
    "Assim como o anteriro, um bom score de regularização é aquele que mais se aproxima de 1.\n",
    "\n",
    "Nesse caso, o modelo de regressão **Lasso** se aproxima mais do 1 do que o do modelo **Ridge**, apesar de ser bem sutil."
   ]
  },
  {
   "cell_type": "markdown",
   "id": "9de41d9c",
   "metadata": {},
   "source": [
    "X(X(X( Como acho o alpha mais eficiente?"
   ]
  },
  {
   "cell_type": "code",
   "execution_count": 25,
   "id": "0634efe0",
   "metadata": {},
   "outputs": [
    {
     "data": {
      "text/plain": [
       "2.4884777044607063"
      ]
     },
     "execution_count": 25,
     "metadata": {},
     "output_type": "execute_result"
    }
   ],
   "source": [
    "modelo_lasso.intercept_"
   ]
  },
  {
   "cell_type": "code",
   "execution_count": 26,
   "id": "a5d82c41",
   "metadata": {},
   "outputs": [
    {
     "data": {
      "text/plain": [
       "array([ 8.09213073, 22.44796231])"
      ]
     },
     "execution_count": 26,
     "metadata": {},
     "output_type": "execute_result"
    }
   ],
   "source": [
    "modelo_lasso.coef_"
   ]
  },
  {
   "cell_type": "markdown",
   "id": "0b947b94",
   "metadata": {},
   "source": [
    "$\\text{Equação:}$\n",
    "\n",
    "\n",
    "\n",
    "$$\\text{gasto_acum} = 2,4885 + 8,092 \\cdot \\text{dia} + 22,45 \\cdot \\text{num_refeicoes}$$"
   ]
  },
  {
   "cell_type": "code",
   "execution_count": 27,
   "id": "4988c173",
   "metadata": {},
   "outputs": [
    {
     "data": {
      "text/plain": [
       "array([  33.02857075,   63.5686638 ,   94.10875685,  124.6488499 ,\n",
       "        155.18894294,  163.28107368,  193.82116673,  224.36125978,\n",
       "        254.90135282,  285.44144587,  315.98153892,  346.52163197,\n",
       "        377.06172502,  407.60181806,  460.58987343,  491.12996647,\n",
       "        521.67005952,  552.21015257,  582.75024562,  613.29033867,\n",
       "        643.83043171,  674.37052476,  704.91061781,  735.45071086,\n",
       "        765.99080391,  796.53089695,  827.07099   ,  857.61108305,\n",
       "        888.1511761 ,  918.69126915,  949.23136219,  979.77145524,\n",
       "       1010.31154829, 1040.85164134, 1071.39173439, 1101.93182743,\n",
       "       1132.47192048, 1163.01201353, 1193.55210658, 1224.09219963,\n",
       "       1254.63229268, 1285.17238572, 1315.71247877, 1346.25257182,\n",
       "       1376.79266487, 1407.33275792, 1437.87285096, 1468.41294401,\n",
       "       1498.95303706, 1529.49313011, 1560.03322316, 1590.5733162 ,\n",
       "       1621.11340925, 1651.6535023 , 1682.19359535, 1712.7336884 ,\n",
       "       1743.27378144, 1773.81387449, 1804.35396754, 1834.89406059,\n",
       "       1865.43415364, 1985.76609594, 2016.30618899, 2046.84628203])"
      ]
     },
     "execution_count": 27,
     "metadata": {},
     "output_type": "execute_result"
    }
   ],
   "source": [
    "previsao2 = modelo_lasso.predict(x)\n",
    "previsao2"
   ]
  },
  {
   "cell_type": "code",
   "execution_count": 28,
   "id": "6e1a1e76",
   "metadata": {},
   "outputs": [],
   "source": [
    "dados['Previsão_Lasso'] = modelo_lasso.predict(x)"
   ]
  },
  {
   "cell_type": "code",
   "execution_count": 29,
   "id": "6531dbb1",
   "metadata": {},
   "outputs": [
    {
     "data": {
      "text/html": [
       "<div>\n",
       "<style scoped>\n",
       "    .dataframe tbody tr th:only-of-type {\n",
       "        vertical-align: middle;\n",
       "    }\n",
       "\n",
       "    .dataframe tbody tr th {\n",
       "        vertical-align: top;\n",
       "    }\n",
       "\n",
       "    .dataframe thead th {\n",
       "        text-align: right;\n",
       "    }\n",
       "</style>\n",
       "<table border=\"1\" class=\"dataframe\">\n",
       "  <thead>\n",
       "    <tr style=\"text-align: right;\">\n",
       "      <th></th>\n",
       "      <th>dia</th>\n",
       "      <th>gasto_dia_reais</th>\n",
       "      <th>num_refeicoes</th>\n",
       "      <th>gasto_acum_reais</th>\n",
       "      <th>Previsão</th>\n",
       "      <th>Erro_abs</th>\n",
       "      <th>Previsão_Lasso</th>\n",
       "    </tr>\n",
       "  </thead>\n",
       "  <tbody>\n",
       "    <tr>\n",
       "      <th>0</th>\n",
       "      <td>1</td>\n",
       "      <td>26</td>\n",
       "      <td>1</td>\n",
       "      <td>26</td>\n",
       "      <td>33.165570</td>\n",
       "      <td>7.165570</td>\n",
       "      <td>33.028571</td>\n",
       "    </tr>\n",
       "    <tr>\n",
       "      <th>1</th>\n",
       "      <td>2</td>\n",
       "      <td>18</td>\n",
       "      <td>2</td>\n",
       "      <td>44</td>\n",
       "      <td>63.696564</td>\n",
       "      <td>19.696564</td>\n",
       "      <td>63.568664</td>\n",
       "    </tr>\n",
       "    <tr>\n",
       "      <th>2</th>\n",
       "      <td>3</td>\n",
       "      <td>37</td>\n",
       "      <td>3</td>\n",
       "      <td>81</td>\n",
       "      <td>94.227559</td>\n",
       "      <td>13.227559</td>\n",
       "      <td>94.108757</td>\n",
       "    </tr>\n",
       "    <tr>\n",
       "      <th>3</th>\n",
       "      <td>4</td>\n",
       "      <td>21</td>\n",
       "      <td>4</td>\n",
       "      <td>102</td>\n",
       "      <td>124.758553</td>\n",
       "      <td>22.758553</td>\n",
       "      <td>124.648850</td>\n",
       "    </tr>\n",
       "    <tr>\n",
       "      <th>4</th>\n",
       "      <td>5</td>\n",
       "      <td>39</td>\n",
       "      <td>5</td>\n",
       "      <td>141</td>\n",
       "      <td>155.289548</td>\n",
       "      <td>14.289548</td>\n",
       "      <td>155.188943</td>\n",
       "    </tr>\n",
       "  </tbody>\n",
       "</table>\n",
       "</div>"
      ],
      "text/plain": [
       "   dia  gasto_dia_reais  num_refeicoes  gasto_acum_reais    Previsão  \\\n",
       "0    1               26              1                26   33.165570   \n",
       "1    2               18              2                44   63.696564   \n",
       "2    3               37              3                81   94.227559   \n",
       "3    4               21              4               102  124.758553   \n",
       "4    5               39              5               141  155.289548   \n",
       "\n",
       "    Erro_abs  Previsão_Lasso  \n",
       "0   7.165570       33.028571  \n",
       "1  19.696564       63.568664  \n",
       "2  13.227559       94.108757  \n",
       "3  22.758553      124.648850  \n",
       "4  14.289548      155.188943  "
      ]
     },
     "execution_count": 29,
     "metadata": {},
     "output_type": "execute_result"
    }
   ],
   "source": [
    "dados.head(5)"
   ]
  },
  {
   "cell_type": "markdown",
   "id": "42187800",
   "metadata": {},
   "source": [
    "### Erro absoluto\n",
    "\n",
    "$$\\text{Erro Absoluto} = \\text{Dado de Treino} - \\text{Dados de Teste}$$"
   ]
  },
  {
   "cell_type": "code",
   "execution_count": 30,
   "id": "b507e06f",
   "metadata": {},
   "outputs": [],
   "source": [
    "dados['erro_abs_lasso'] = abs(dados['gasto_acum_reais'] - dados['Previsão_Lasso'])"
   ]
  },
  {
   "cell_type": "code",
   "execution_count": 32,
   "id": "8ea22742",
   "metadata": {},
   "outputs": [
    {
     "data": {
      "text/html": [
       "<div>\n",
       "<style scoped>\n",
       "    .dataframe tbody tr th:only-of-type {\n",
       "        vertical-align: middle;\n",
       "    }\n",
       "\n",
       "    .dataframe tbody tr th {\n",
       "        vertical-align: top;\n",
       "    }\n",
       "\n",
       "    .dataframe thead th {\n",
       "        text-align: right;\n",
       "    }\n",
       "</style>\n",
       "<table border=\"1\" class=\"dataframe\">\n",
       "  <thead>\n",
       "    <tr style=\"text-align: right;\">\n",
       "      <th></th>\n",
       "      <th>dia</th>\n",
       "      <th>gasto_dia_reais</th>\n",
       "      <th>num_refeicoes</th>\n",
       "      <th>gasto_acum_reais</th>\n",
       "      <th>Previsão</th>\n",
       "      <th>Erro_abs</th>\n",
       "      <th>Previsão_Lasso</th>\n",
       "      <th>erro_abs_lasso</th>\n",
       "    </tr>\n",
       "  </thead>\n",
       "  <tbody>\n",
       "    <tr>\n",
       "      <th>0</th>\n",
       "      <td>1</td>\n",
       "      <td>26</td>\n",
       "      <td>1</td>\n",
       "      <td>26</td>\n",
       "      <td>33.165570</td>\n",
       "      <td>7.165570</td>\n",
       "      <td>33.028571</td>\n",
       "      <td>7.028571</td>\n",
       "    </tr>\n",
       "    <tr>\n",
       "      <th>1</th>\n",
       "      <td>2</td>\n",
       "      <td>18</td>\n",
       "      <td>2</td>\n",
       "      <td>44</td>\n",
       "      <td>63.696564</td>\n",
       "      <td>19.696564</td>\n",
       "      <td>63.568664</td>\n",
       "      <td>19.568664</td>\n",
       "    </tr>\n",
       "    <tr>\n",
       "      <th>2</th>\n",
       "      <td>3</td>\n",
       "      <td>37</td>\n",
       "      <td>3</td>\n",
       "      <td>81</td>\n",
       "      <td>94.227559</td>\n",
       "      <td>13.227559</td>\n",
       "      <td>94.108757</td>\n",
       "      <td>13.108757</td>\n",
       "    </tr>\n",
       "    <tr>\n",
       "      <th>3</th>\n",
       "      <td>4</td>\n",
       "      <td>21</td>\n",
       "      <td>4</td>\n",
       "      <td>102</td>\n",
       "      <td>124.758553</td>\n",
       "      <td>22.758553</td>\n",
       "      <td>124.648850</td>\n",
       "      <td>22.648850</td>\n",
       "    </tr>\n",
       "    <tr>\n",
       "      <th>4</th>\n",
       "      <td>5</td>\n",
       "      <td>39</td>\n",
       "      <td>5</td>\n",
       "      <td>141</td>\n",
       "      <td>155.289548</td>\n",
       "      <td>14.289548</td>\n",
       "      <td>155.188943</td>\n",
       "      <td>14.188943</td>\n",
       "    </tr>\n",
       "    <tr>\n",
       "      <th>5</th>\n",
       "      <td>6</td>\n",
       "      <td>0</td>\n",
       "      <td>5</td>\n",
       "      <td>141</td>\n",
       "      <td>160.180999</td>\n",
       "      <td>19.180999</td>\n",
       "      <td>163.281074</td>\n",
       "      <td>22.281074</td>\n",
       "    </tr>\n",
       "    <tr>\n",
       "      <th>6</th>\n",
       "      <td>7</td>\n",
       "      <td>41</td>\n",
       "      <td>6</td>\n",
       "      <td>182</td>\n",
       "      <td>190.711994</td>\n",
       "      <td>8.711994</td>\n",
       "      <td>193.821167</td>\n",
       "      <td>11.821167</td>\n",
       "    </tr>\n",
       "    <tr>\n",
       "      <th>7</th>\n",
       "      <td>8</td>\n",
       "      <td>34</td>\n",
       "      <td>7</td>\n",
       "      <td>216</td>\n",
       "      <td>221.242988</td>\n",
       "      <td>5.242988</td>\n",
       "      <td>224.361260</td>\n",
       "      <td>8.361260</td>\n",
       "    </tr>\n",
       "    <tr>\n",
       "      <th>8</th>\n",
       "      <td>9</td>\n",
       "      <td>53</td>\n",
       "      <td>8</td>\n",
       "      <td>269</td>\n",
       "      <td>251.773983</td>\n",
       "      <td>17.226017</td>\n",
       "      <td>254.901353</td>\n",
       "      <td>14.098647</td>\n",
       "    </tr>\n",
       "    <tr>\n",
       "      <th>9</th>\n",
       "      <td>10</td>\n",
       "      <td>22</td>\n",
       "      <td>9</td>\n",
       "      <td>291</td>\n",
       "      <td>282.304977</td>\n",
       "      <td>8.695023</td>\n",
       "      <td>285.441446</td>\n",
       "      <td>5.558554</td>\n",
       "    </tr>\n",
       "    <tr>\n",
       "      <th>10</th>\n",
       "      <td>11</td>\n",
       "      <td>8</td>\n",
       "      <td>10</td>\n",
       "      <td>299</td>\n",
       "      <td>312.835972</td>\n",
       "      <td>13.835972</td>\n",
       "      <td>315.981539</td>\n",
       "      <td>16.981539</td>\n",
       "    </tr>\n",
       "    <tr>\n",
       "      <th>11</th>\n",
       "      <td>12</td>\n",
       "      <td>28</td>\n",
       "      <td>11</td>\n",
       "      <td>327</td>\n",
       "      <td>343.366966</td>\n",
       "      <td>16.366966</td>\n",
       "      <td>346.521632</td>\n",
       "      <td>19.521632</td>\n",
       "    </tr>\n",
       "    <tr>\n",
       "      <th>12</th>\n",
       "      <td>13</td>\n",
       "      <td>36</td>\n",
       "      <td>12</td>\n",
       "      <td>363</td>\n",
       "      <td>373.897961</td>\n",
       "      <td>10.897961</td>\n",
       "      <td>377.061725</td>\n",
       "      <td>14.061725</td>\n",
       "    </tr>\n",
       "    <tr>\n",
       "      <th>13</th>\n",
       "      <td>14</td>\n",
       "      <td>42</td>\n",
       "      <td>13</td>\n",
       "      <td>405</td>\n",
       "      <td>404.428955</td>\n",
       "      <td>0.571045</td>\n",
       "      <td>407.601818</td>\n",
       "      <td>2.601818</td>\n",
       "    </tr>\n",
       "    <tr>\n",
       "      <th>14</th>\n",
       "      <td>15</td>\n",
       "      <td>72</td>\n",
       "      <td>15</td>\n",
       "      <td>477</td>\n",
       "      <td>460.599493</td>\n",
       "      <td>16.400507</td>\n",
       "      <td>460.589873</td>\n",
       "      <td>16.410127</td>\n",
       "    </tr>\n",
       "    <tr>\n",
       "      <th>15</th>\n",
       "      <td>16</td>\n",
       "      <td>20</td>\n",
       "      <td>16</td>\n",
       "      <td>497</td>\n",
       "      <td>491.130487</td>\n",
       "      <td>5.869513</td>\n",
       "      <td>491.129966</td>\n",
       "      <td>5.870034</td>\n",
       "    </tr>\n",
       "    <tr>\n",
       "      <th>16</th>\n",
       "      <td>17</td>\n",
       "      <td>29</td>\n",
       "      <td>17</td>\n",
       "      <td>526</td>\n",
       "      <td>521.661482</td>\n",
       "      <td>4.338518</td>\n",
       "      <td>521.670060</td>\n",
       "      <td>4.329940</td>\n",
       "    </tr>\n",
       "    <tr>\n",
       "      <th>17</th>\n",
       "      <td>18</td>\n",
       "      <td>45</td>\n",
       "      <td>18</td>\n",
       "      <td>571</td>\n",
       "      <td>552.192476</td>\n",
       "      <td>18.807524</td>\n",
       "      <td>552.210153</td>\n",
       "      <td>18.789847</td>\n",
       "    </tr>\n",
       "    <tr>\n",
       "      <th>18</th>\n",
       "      <td>19</td>\n",
       "      <td>26</td>\n",
       "      <td>19</td>\n",
       "      <td>597</td>\n",
       "      <td>582.723471</td>\n",
       "      <td>14.276529</td>\n",
       "      <td>582.750246</td>\n",
       "      <td>14.249754</td>\n",
       "    </tr>\n",
       "    <tr>\n",
       "      <th>19</th>\n",
       "      <td>20</td>\n",
       "      <td>29</td>\n",
       "      <td>20</td>\n",
       "      <td>626</td>\n",
       "      <td>613.254465</td>\n",
       "      <td>12.745535</td>\n",
       "      <td>613.290339</td>\n",
       "      <td>12.709661</td>\n",
       "    </tr>\n",
       "  </tbody>\n",
       "</table>\n",
       "</div>"
      ],
      "text/plain": [
       "    dia  gasto_dia_reais  num_refeicoes  gasto_acum_reais    Previsão  \\\n",
       "0     1               26              1                26   33.165570   \n",
       "1     2               18              2                44   63.696564   \n",
       "2     3               37              3                81   94.227559   \n",
       "3     4               21              4               102  124.758553   \n",
       "4     5               39              5               141  155.289548   \n",
       "5     6                0              5               141  160.180999   \n",
       "6     7               41              6               182  190.711994   \n",
       "7     8               34              7               216  221.242988   \n",
       "8     9               53              8               269  251.773983   \n",
       "9    10               22              9               291  282.304977   \n",
       "10   11                8             10               299  312.835972   \n",
       "11   12               28             11               327  343.366966   \n",
       "12   13               36             12               363  373.897961   \n",
       "13   14               42             13               405  404.428955   \n",
       "14   15               72             15               477  460.599493   \n",
       "15   16               20             16               497  491.130487   \n",
       "16   17               29             17               526  521.661482   \n",
       "17   18               45             18               571  552.192476   \n",
       "18   19               26             19               597  582.723471   \n",
       "19   20               29             20               626  613.254465   \n",
       "\n",
       "     Erro_abs  Previsão_Lasso  erro_abs_lasso  \n",
       "0    7.165570       33.028571        7.028571  \n",
       "1   19.696564       63.568664       19.568664  \n",
       "2   13.227559       94.108757       13.108757  \n",
       "3   22.758553      124.648850       22.648850  \n",
       "4   14.289548      155.188943       14.188943  \n",
       "5   19.180999      163.281074       22.281074  \n",
       "6    8.711994      193.821167       11.821167  \n",
       "7    5.242988      224.361260        8.361260  \n",
       "8   17.226017      254.901353       14.098647  \n",
       "9    8.695023      285.441446        5.558554  \n",
       "10  13.835972      315.981539       16.981539  \n",
       "11  16.366966      346.521632       19.521632  \n",
       "12  10.897961      377.061725       14.061725  \n",
       "13   0.571045      407.601818        2.601818  \n",
       "14  16.400507      460.589873       16.410127  \n",
       "15   5.869513      491.129966        5.870034  \n",
       "16   4.338518      521.670060        4.329940  \n",
       "17  18.807524      552.210153       18.789847  \n",
       "18  14.276529      582.750246       14.249754  \n",
       "19  12.745535      613.290339       12.709661  "
      ]
     },
     "execution_count": 32,
     "metadata": {},
     "output_type": "execute_result"
    }
   ],
   "source": [
    "dados.head(20)"
   ]
  },
  {
   "cell_type": "code",
   "execution_count": 33,
   "id": "a51d94b2",
   "metadata": {},
   "outputs": [
    {
     "data": {
      "text/html": [
       "<div>\n",
       "<style scoped>\n",
       "    .dataframe tbody tr th:only-of-type {\n",
       "        vertical-align: middle;\n",
       "    }\n",
       "\n",
       "    .dataframe tbody tr th {\n",
       "        vertical-align: top;\n",
       "    }\n",
       "\n",
       "    .dataframe thead th {\n",
       "        text-align: right;\n",
       "    }\n",
       "</style>\n",
       "<table border=\"1\" class=\"dataframe\">\n",
       "  <thead>\n",
       "    <tr style=\"text-align: right;\">\n",
       "      <th></th>\n",
       "      <th>dia</th>\n",
       "      <th>gasto_dia_reais</th>\n",
       "      <th>num_refeicoes</th>\n",
       "      <th>gasto_acum_reais</th>\n",
       "      <th>Previsão</th>\n",
       "      <th>Erro_abs</th>\n",
       "      <th>Previsão_Lasso</th>\n",
       "      <th>erro_abs_lasso</th>\n",
       "    </tr>\n",
       "  </thead>\n",
       "  <tbody>\n",
       "    <tr>\n",
       "      <th>count</th>\n",
       "      <td>64.000000</td>\n",
       "      <td>64.000000</td>\n",
       "      <td>64.000000</td>\n",
       "      <td>64.000000</td>\n",
       "      <td>64.000000</td>\n",
       "      <td>64.000000</td>\n",
       "      <td>64.000000</td>\n",
       "      <td>64.000000</td>\n",
       "    </tr>\n",
       "    <tr>\n",
       "      <th>mean</th>\n",
       "      <td>32.500000</td>\n",
       "      <td>32.312500</td>\n",
       "      <td>32.546875</td>\n",
       "      <td>996.093750</td>\n",
       "      <td>996.093750</td>\n",
       "      <td>8.807401</td>\n",
       "      <td>996.093750</td>\n",
       "      <td>8.983458</td>\n",
       "    </tr>\n",
       "    <tr>\n",
       "      <th>std</th>\n",
       "      <td>18.618987</td>\n",
       "      <td>15.443574</td>\n",
       "      <td>19.121109</td>\n",
       "      <td>581.353012</td>\n",
       "      <td>581.260209</td>\n",
       "      <td>5.393756</td>\n",
       "      <td>579.795335</td>\n",
       "      <td>5.882911</td>\n",
       "    </tr>\n",
       "    <tr>\n",
       "      <th>min</th>\n",
       "      <td>1.000000</td>\n",
       "      <td>0.000000</td>\n",
       "      <td>1.000000</td>\n",
       "      <td>26.000000</td>\n",
       "      <td>33.165570</td>\n",
       "      <td>0.405350</td>\n",
       "      <td>33.028571</td>\n",
       "      <td>0.233904</td>\n",
       "    </tr>\n",
       "    <tr>\n",
       "      <th>25%</th>\n",
       "      <td>16.750000</td>\n",
       "      <td>26.000000</td>\n",
       "      <td>16.750000</td>\n",
       "      <td>518.750000</td>\n",
       "      <td>514.028733</td>\n",
       "      <td>4.800202</td>\n",
       "      <td>514.035036</td>\n",
       "      <td>4.666379</td>\n",
       "    </tr>\n",
       "    <tr>\n",
       "      <th>50%</th>\n",
       "      <td>32.500000</td>\n",
       "      <td>29.000000</td>\n",
       "      <td>32.500000</td>\n",
       "      <td>1006.000000</td>\n",
       "      <td>994.891896</td>\n",
       "      <td>8.420470</td>\n",
       "      <td>995.041502</td>\n",
       "      <td>7.907800</td>\n",
       "    </tr>\n",
       "    <tr>\n",
       "      <th>75%</th>\n",
       "      <td>48.250000</td>\n",
       "      <td>37.000000</td>\n",
       "      <td>48.250000</td>\n",
       "      <td>1471.750000</td>\n",
       "      <td>1475.755060</td>\n",
       "      <td>12.139439</td>\n",
       "      <td>1476.047967</td>\n",
       "      <td>12.408963</td>\n",
       "    </tr>\n",
       "    <tr>\n",
       "      <th>max</th>\n",
       "      <td>64.000000</td>\n",
       "      <td>122.000000</td>\n",
       "      <td>68.000000</td>\n",
       "      <td>2068.000000</td>\n",
       "      <td>2059.176394</td>\n",
       "      <td>22.758553</td>\n",
       "      <td>2046.846282</td>\n",
       "      <td>22.648850</td>\n",
       "    </tr>\n",
       "  </tbody>\n",
       "</table>\n",
       "</div>"
      ],
      "text/plain": [
       "             dia  gasto_dia_reais  num_refeicoes  gasto_acum_reais  \\\n",
       "count  64.000000        64.000000      64.000000         64.000000   \n",
       "mean   32.500000        32.312500      32.546875        996.093750   \n",
       "std    18.618987        15.443574      19.121109        581.353012   \n",
       "min     1.000000         0.000000       1.000000         26.000000   \n",
       "25%    16.750000        26.000000      16.750000        518.750000   \n",
       "50%    32.500000        29.000000      32.500000       1006.000000   \n",
       "75%    48.250000        37.000000      48.250000       1471.750000   \n",
       "max    64.000000       122.000000      68.000000       2068.000000   \n",
       "\n",
       "          Previsão   Erro_abs  Previsão_Lasso  erro_abs_lasso  \n",
       "count    64.000000  64.000000       64.000000       64.000000  \n",
       "mean    996.093750   8.807401      996.093750        8.983458  \n",
       "std     581.260209   5.393756      579.795335        5.882911  \n",
       "min      33.165570   0.405350       33.028571        0.233904  \n",
       "25%     514.028733   4.800202      514.035036        4.666379  \n",
       "50%     994.891896   8.420470      995.041502        7.907800  \n",
       "75%    1475.755060  12.139439     1476.047967       12.408963  \n",
       "max    2059.176394  22.758553     2046.846282       22.648850  "
      ]
     },
     "execution_count": 33,
     "metadata": {},
     "output_type": "execute_result"
    }
   ],
   "source": [
    "dados.describe()"
   ]
  },
  {
   "cell_type": "markdown",
   "id": "29fa50cb",
   "metadata": {},
   "source": [
    "### Parâmetros de validação do modelo Lasso"
   ]
  },
  {
   "cell_type": "markdown",
   "id": "803a3ac2",
   "metadata": {},
   "source": [
    "### Erro médio absoluto (MAE)"
   ]
  },
  {
   "cell_type": "code",
   "execution_count": 34,
   "id": "8f530d91",
   "metadata": {},
   "outputs": [
    {
     "data": {
      "text/plain": [
       "8.983457670916108"
      ]
     },
     "execution_count": 34,
     "metadata": {},
     "output_type": "execute_result"
    }
   ],
   "source": [
    "dados['erro_abs_lasso'].mean()"
   ]
  },
  {
   "cell_type": "markdown",
   "id": "17ed7e7e",
   "metadata": {},
   "source": [
    "### Erro médio quadrático (MSE)"
   ]
  },
  {
   "cell_type": "code",
   "execution_count": 40,
   "id": "02aeb0ac",
   "metadata": {},
   "outputs": [
    {
     "name": "stdout",
     "output_type": "stream",
     "text": [
      "114.7703964250219\n"
     ]
    }
   ],
   "source": [
    "total = 0 \n",
    "\n",
    "for row in dados['erro_abs_lasso']:\n",
    "    total = total + (row)**2\n",
    "    \n",
    "print(total/dados.shape[0])"
   ]
  },
  {
   "cell_type": "markdown",
   "id": "fa4182a7",
   "metadata": {},
   "source": [
    "## Modelo Elastic Net"
   ]
  },
  {
   "cell_type": "code",
   "execution_count": 49,
   "id": "f3e563e8",
   "metadata": {},
   "outputs": [
    {
     "name": "stderr",
     "output_type": "stream",
     "text": [
      "C:\\Users\\Appleack\\Anaconda3\\lib\\site-packages\\sklearn\\linear_model\\_coordinate_descent.py:647: ConvergenceWarning: Objective did not converge. You might want to increase the number of iterations, check the scale of the features or consider increasing regularisation. Duality gap: 3.757e+03, tolerance: 2.129e+03\n",
      "  model = cd_fast.enet_coordinate_descent(\n"
     ]
    },
    {
     "data": {
      "text/plain": [
       "0.9996471284135284"
      ]
     },
     "execution_count": 49,
     "metadata": {},
     "output_type": "execute_result"
    }
   ],
   "source": [
    "modelo_elastic = ElasticNet(alpha = 0.0001, l1_ratio=0.85) # L1 = Lasso\n",
    "modelo_elastic.fit(x, y)\n",
    "modelo_elastic.score(x, y)"
   ]
  },
  {
   "cell_type": "code",
   "execution_count": 50,
   "id": "b9bb53cf",
   "metadata": {},
   "outputs": [
    {
     "data": {
      "text/plain": [
       "-0.9110387458281366"
      ]
     },
     "execution_count": 50,
     "metadata": {},
     "output_type": "execute_result"
    }
   ],
   "source": [
    "modelo_elastic.intercept_"
   ]
  },
  {
   "cell_type": "code",
   "execution_count": 51,
   "id": "40be3c59",
   "metadata": {},
   "outputs": [
    {
     "data": {
      "text/plain": [
       "array([ 9.12881539, 21.51722058])"
      ]
     },
     "execution_count": 51,
     "metadata": {},
     "output_type": "execute_result"
    }
   ],
   "source": [
    "modelo_elastic.coef_"
   ]
  },
  {
   "cell_type": "markdown",
   "id": "287ac12f",
   "metadata": {},
   "source": [
    "$\\text{Equação:}$\n",
    "\n",
    "\n",
    "\n",
    "$$\\text{gasto_acum} = -0,911 + 9,123 \\cdot \\text{dia} + 21,517 \\cdot \\text{num_refeicoes}$$"
   ]
  },
  {
   "cell_type": "code",
   "execution_count": 52,
   "id": "b0aebea1",
   "metadata": {},
   "outputs": [],
   "source": [
    "dados['previsao_elastic'] = modelo_elastic.predict(x)\n",
    "dados['erro_abs_elastic'] = abs(dados['gasto_acum_reais'] - dados['previsao_elastic'])"
   ]
  },
  {
   "cell_type": "code",
   "execution_count": 56,
   "id": "329f533c",
   "metadata": {},
   "outputs": [
    {
     "data": {
      "text/html": [
       "<div>\n",
       "<style scoped>\n",
       "    .dataframe tbody tr th:only-of-type {\n",
       "        vertical-align: middle;\n",
       "    }\n",
       "\n",
       "    .dataframe tbody tr th {\n",
       "        vertical-align: top;\n",
       "    }\n",
       "\n",
       "    .dataframe thead th {\n",
       "        text-align: right;\n",
       "    }\n",
       "</style>\n",
       "<table border=\"1\" class=\"dataframe\">\n",
       "  <thead>\n",
       "    <tr style=\"text-align: right;\">\n",
       "      <th></th>\n",
       "      <th>dia</th>\n",
       "      <th>gasto_dia_reais</th>\n",
       "      <th>num_refeicoes</th>\n",
       "      <th>gasto_acum_reais</th>\n",
       "      <th>Previsão</th>\n",
       "      <th>Erro_abs</th>\n",
       "      <th>Previsão_Lasso</th>\n",
       "      <th>erro_abs_lasso</th>\n",
       "      <th>previsao_elastic</th>\n",
       "      <th>erro_abs_elastic</th>\n",
       "    </tr>\n",
       "  </thead>\n",
       "  <tbody>\n",
       "    <tr>\n",
       "      <th>count</th>\n",
       "      <td>64.000000</td>\n",
       "      <td>64.000000</td>\n",
       "      <td>64.000000</td>\n",
       "      <td>64.000000</td>\n",
       "      <td>64.000000</td>\n",
       "      <td>64.000000</td>\n",
       "      <td>64.000000</td>\n",
       "      <td>64.000000</td>\n",
       "      <td>64.000000</td>\n",
       "      <td>64.000000</td>\n",
       "    </tr>\n",
       "    <tr>\n",
       "      <th>mean</th>\n",
       "      <td>32.500000</td>\n",
       "      <td>32.312500</td>\n",
       "      <td>32.546875</td>\n",
       "      <td>996.093750</td>\n",
       "      <td>996.093750</td>\n",
       "      <td>8.807401</td>\n",
       "      <td>996.093750</td>\n",
       "      <td>8.983458</td>\n",
       "      <td>996.093750</td>\n",
       "      <td>9.241936</td>\n",
       "    </tr>\n",
       "    <tr>\n",
       "      <th>std</th>\n",
       "      <td>18.618987</td>\n",
       "      <td>15.443574</td>\n",
       "      <td>19.121109</td>\n",
       "      <td>581.353012</td>\n",
       "      <td>581.260209</td>\n",
       "      <td>5.393756</td>\n",
       "      <td>579.795335</td>\n",
       "      <td>5.882911</td>\n",
       "      <td>581.292536</td>\n",
       "      <td>5.700116</td>\n",
       "    </tr>\n",
       "    <tr>\n",
       "      <th>min</th>\n",
       "      <td>1.000000</td>\n",
       "      <td>0.000000</td>\n",
       "      <td>1.000000</td>\n",
       "      <td>26.000000</td>\n",
       "      <td>33.165570</td>\n",
       "      <td>0.405350</td>\n",
       "      <td>33.028571</td>\n",
       "      <td>0.233904</td>\n",
       "      <td>29.734997</td>\n",
       "      <td>0.787926</td>\n",
       "    </tr>\n",
       "    <tr>\n",
       "      <th>25%</th>\n",
       "      <td>16.750000</td>\n",
       "      <td>26.000000</td>\n",
       "      <td>16.750000</td>\n",
       "      <td>518.750000</td>\n",
       "      <td>514.028733</td>\n",
       "      <td>4.800202</td>\n",
       "      <td>514.035036</td>\n",
       "      <td>4.666379</td>\n",
       "      <td>512.410064</td>\n",
       "      <td>4.459431</td>\n",
       "    </tr>\n",
       "    <tr>\n",
       "      <th>50%</th>\n",
       "      <td>32.500000</td>\n",
       "      <td>29.000000</td>\n",
       "      <td>32.500000</td>\n",
       "      <td>1006.000000</td>\n",
       "      <td>994.891896</td>\n",
       "      <td>8.420470</td>\n",
       "      <td>995.041502</td>\n",
       "      <td>7.907800</td>\n",
       "      <td>995.085130</td>\n",
       "      <td>7.907162</td>\n",
       "    </tr>\n",
       "    <tr>\n",
       "      <th>75%</th>\n",
       "      <td>48.250000</td>\n",
       "      <td>37.000000</td>\n",
       "      <td>48.250000</td>\n",
       "      <td>1471.750000</td>\n",
       "      <td>1475.755060</td>\n",
       "      <td>12.139439</td>\n",
       "      <td>1476.047967</td>\n",
       "      <td>12.408963</td>\n",
       "      <td>1477.760197</td>\n",
       "      <td>13.063727</td>\n",
       "    </tr>\n",
       "    <tr>\n",
       "      <th>max</th>\n",
       "      <td>64.000000</td>\n",
       "      <td>122.000000</td>\n",
       "      <td>68.000000</td>\n",
       "      <td>2068.000000</td>\n",
       "      <td>2059.176394</td>\n",
       "      <td>22.758553</td>\n",
       "      <td>2046.846282</td>\n",
       "      <td>22.648850</td>\n",
       "      <td>2046.504146</td>\n",
       "      <td>22.052211</td>\n",
       "    </tr>\n",
       "  </tbody>\n",
       "</table>\n",
       "</div>"
      ],
      "text/plain": [
       "             dia  gasto_dia_reais  num_refeicoes  gasto_acum_reais  \\\n",
       "count  64.000000        64.000000      64.000000         64.000000   \n",
       "mean   32.500000        32.312500      32.546875        996.093750   \n",
       "std    18.618987        15.443574      19.121109        581.353012   \n",
       "min     1.000000         0.000000       1.000000         26.000000   \n",
       "25%    16.750000        26.000000      16.750000        518.750000   \n",
       "50%    32.500000        29.000000      32.500000       1006.000000   \n",
       "75%    48.250000        37.000000      48.250000       1471.750000   \n",
       "max    64.000000       122.000000      68.000000       2068.000000   \n",
       "\n",
       "          Previsão   Erro_abs  Previsão_Lasso  erro_abs_lasso  \\\n",
       "count    64.000000  64.000000       64.000000       64.000000   \n",
       "mean    996.093750   8.807401      996.093750        8.983458   \n",
       "std     581.260209   5.393756      579.795335        5.882911   \n",
       "min      33.165570   0.405350       33.028571        0.233904   \n",
       "25%     514.028733   4.800202      514.035036        4.666379   \n",
       "50%     994.891896   8.420470      995.041502        7.907800   \n",
       "75%    1475.755060  12.139439     1476.047967       12.408963   \n",
       "max    2059.176394  22.758553     2046.846282       22.648850   \n",
       "\n",
       "       previsao_elastic  erro_abs_elastic  \n",
       "count         64.000000         64.000000  \n",
       "mean         996.093750          9.241936  \n",
       "std          581.292536          5.700116  \n",
       "min           29.734997          0.787926  \n",
       "25%          512.410064          4.459431  \n",
       "50%          995.085130          7.907162  \n",
       "75%         1477.760197         13.063727  \n",
       "max         2046.504146         22.052211  "
      ]
     },
     "execution_count": 56,
     "metadata": {},
     "output_type": "execute_result"
    }
   ],
   "source": [
    "dados.describe()"
   ]
  },
  {
   "cell_type": "markdown",
   "id": "3f679116",
   "metadata": {},
   "source": [
    "# Conclusão de modelos\n",
    "$\\text{Comparação entre modelos:}$\n",
    "\n",
    "$$\\text{Score Ridge: 0.9996807}$$\n",
    "$$\\text{Score Lasso: 0.9996550}$$\n",
    "$$\\text{Score Elastic Net: 0.9996471}$$\n",
    "\n",
    "$$\\;$$\n",
    "\n",
    "$$\\text{Erro Médio Ridge: 8.807401; com } \\sigma = 5.393756$$\n",
    "$$\\text{Erro Médio Lasso: 8.983458; com } \\sigma = 5.882911$$\n",
    "$$\\text{Erro Médio Elastic: 9.241936; com } \\sigma = 5.700116$$"
   ]
  },
  {
   "cell_type": "code",
   "execution_count": null,
   "id": "0aa58d49",
   "metadata": {},
   "outputs": [],
   "source": []
  }
 ],
 "metadata": {
  "kernelspec": {
   "display_name": "Python 3 (ipykernel)",
   "language": "python",
   "name": "python3"
  },
  "language_info": {
   "codemirror_mode": {
    "name": "ipython",
    "version": 3
   },
   "file_extension": ".py",
   "mimetype": "text/x-python",
   "name": "python",
   "nbconvert_exporter": "python",
   "pygments_lexer": "ipython3",
   "version": "3.9.12"
  }
 },
 "nbformat": 4,
 "nbformat_minor": 5
}
