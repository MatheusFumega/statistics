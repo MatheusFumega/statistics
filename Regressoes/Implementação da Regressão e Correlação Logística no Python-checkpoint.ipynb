{
 "cells": [
  {
   "cell_type": "markdown",
   "id": "b4b7381f",
   "metadata": {},
   "source": [
    "# Regressão e Correlação Logística\n",
    "\n",
    "Pode ser **binária** **(variável dependente do tipo sim/não, verdadeiro/falso)**, ou **multinominal**, variável **dependente com mais de duas categorias**.\n",
    "\n",
    "As variáveis independentes podem ser contínuas ou binárias.\n",
    "\n",
    "$$p = \\frac{1}{1 + e^{-(b_0 + b_1x_1 + b_2x_2 + \\dots + b_nx_n )} }$$\n",
    "\n",
    "Utilizamos a regressão logística binária quando:\n",
    "\n",
    "- Variável dependente com distribuição binomial\n",
    "- **Reprovação** no teste de **homocedasticidade**\n",
    "- Resíduos **não** tiverem **distribuição normal**"
   ]
  },
  {
   "cell_type": "code",
   "execution_count": null,
   "id": "c2b4ada2",
   "metadata": {},
   "outputs": [],
   "source": []
  }
 ],
 "metadata": {
  "kernelspec": {
   "display_name": "Python 3 (ipykernel)",
   "language": "python",
   "name": "python3"
  },
  "language_info": {
   "codemirror_mode": {
    "name": "ipython",
    "version": 3
   },
   "file_extension": ".py",
   "mimetype": "text/x-python",
   "name": "python",
   "nbconvert_exporter": "python",
   "pygments_lexer": "ipython3",
   "version": "3.9.12"
  }
 },
 "nbformat": 4,
 "nbformat_minor": 5
}
