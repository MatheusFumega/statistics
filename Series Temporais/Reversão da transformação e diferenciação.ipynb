{
 "cells": [
  {
   "cell_type": "markdown",
   "id": "6fd3593b",
   "metadata": {},
   "source": [
    "# Reversão da Transformação e Diferenciação\n",
    "A transformação e a diferenciação altera os valores da série e, quando for para criar previsões ou mostrar valores, será necessário voltar para escala original."
   ]
  },
  {
   "cell_type": "code",
   "execution_count": 20,
   "id": "af51b976",
   "metadata": {},
   "outputs": [],
   "source": [
    "import numpy as np\n",
    "import pandas as pd\n",
    "import matplotlib.pyplot as plt"
   ]
  },
  {
   "cell_type": "code",
   "execution_count": 21,
   "id": "ef249e0f",
   "metadata": {},
   "outputs": [
    {
     "data": {
      "text/html": [
       "<div>\n",
       "<style scoped>\n",
       "    .dataframe tbody tr th:only-of-type {\n",
       "        vertical-align: middle;\n",
       "    }\n",
       "\n",
       "    .dataframe tbody tr th {\n",
       "        vertical-align: top;\n",
       "    }\n",
       "\n",
       "    .dataframe thead th {\n",
       "        text-align: right;\n",
       "    }\n",
       "</style>\n",
       "<table border=\"1\" class=\"dataframe\">\n",
       "  <thead>\n",
       "    <tr style=\"text-align: right;\">\n",
       "      <th></th>\n",
       "      <th>Month</th>\n",
       "      <th>#Passengers</th>\n",
       "    </tr>\n",
       "  </thead>\n",
       "  <tbody>\n",
       "    <tr>\n",
       "      <th>0</th>\n",
       "      <td>1949-01</td>\n",
       "      <td>112</td>\n",
       "    </tr>\n",
       "    <tr>\n",
       "      <th>1</th>\n",
       "      <td>1949-02</td>\n",
       "      <td>118</td>\n",
       "    </tr>\n",
       "    <tr>\n",
       "      <th>2</th>\n",
       "      <td>1949-03</td>\n",
       "      <td>132</td>\n",
       "    </tr>\n",
       "    <tr>\n",
       "      <th>3</th>\n",
       "      <td>1949-04</td>\n",
       "      <td>129</td>\n",
       "    </tr>\n",
       "    <tr>\n",
       "      <th>4</th>\n",
       "      <td>1949-05</td>\n",
       "      <td>121</td>\n",
       "    </tr>\n",
       "    <tr>\n",
       "      <th>...</th>\n",
       "      <td>...</td>\n",
       "      <td>...</td>\n",
       "    </tr>\n",
       "    <tr>\n",
       "      <th>139</th>\n",
       "      <td>1960-08</td>\n",
       "      <td>606</td>\n",
       "    </tr>\n",
       "    <tr>\n",
       "      <th>140</th>\n",
       "      <td>1960-09</td>\n",
       "      <td>508</td>\n",
       "    </tr>\n",
       "    <tr>\n",
       "      <th>141</th>\n",
       "      <td>1960-10</td>\n",
       "      <td>461</td>\n",
       "    </tr>\n",
       "    <tr>\n",
       "      <th>142</th>\n",
       "      <td>1960-11</td>\n",
       "      <td>390</td>\n",
       "    </tr>\n",
       "    <tr>\n",
       "      <th>143</th>\n",
       "      <td>1960-12</td>\n",
       "      <td>432</td>\n",
       "    </tr>\n",
       "  </tbody>\n",
       "</table>\n",
       "<p>144 rows × 2 columns</p>\n",
       "</div>"
      ],
      "text/plain": [
       "       Month  #Passengers\n",
       "0    1949-01          112\n",
       "1    1949-02          118\n",
       "2    1949-03          132\n",
       "3    1949-04          129\n",
       "4    1949-05          121\n",
       "..       ...          ...\n",
       "139  1960-08          606\n",
       "140  1960-09          508\n",
       "141  1960-10          461\n",
       "142  1960-11          390\n",
       "143  1960-12          432\n",
       "\n",
       "[144 rows x 2 columns]"
      ]
     },
     "execution_count": 21,
     "metadata": {},
     "output_type": "execute_result"
    }
   ],
   "source": [
    "dados = pd.read_csv('AirPassengers.csv')\n",
    "dados"
   ]
  },
  {
   "cell_type": "code",
   "execution_count": 22,
   "id": "02d3b70a",
   "metadata": {},
   "outputs": [
    {
     "data": {
      "text/plain": [
       "Month\n",
       "1949-01    112\n",
       "1949-02    118\n",
       "1949-03    132\n",
       "1949-04    129\n",
       "1949-05    121\n",
       "          ... \n",
       "1960-08    606\n",
       "1960-09    508\n",
       "1960-10    461\n",
       "1960-11    390\n",
       "1960-12    432\n",
       "Length: 144, dtype: int64"
      ]
     },
     "execution_count": 22,
     "metadata": {},
     "output_type": "execute_result"
    }
   ],
   "source": [
    "# Criando a série\n",
    "serie = pd.Series(dados['#Passengers'].values, index = dados['Month'])\n",
    "serie"
   ]
  },
  {
   "cell_type": "markdown",
   "id": "ee459100",
   "metadata": {},
   "source": [
    "## Reversão da transformação por logaritmo\n",
    "Quando colocamos a transformação por log (np.log), é o logaritmo natural, ou seja, o ln, tem base e (e ~ 2,71) (para fazermos a reversão, temo que sabe qual é a sua base)."
   ]
  },
  {
   "cell_type": "code",
   "execution_count": 23,
   "id": "608ca8ca",
   "metadata": {},
   "outputs": [
    {
     "data": {
      "text/plain": [
       "Month\n",
       "1949-01    4.718499\n",
       "1949-02    4.770685\n",
       "1949-03    4.882802\n",
       "1949-04    4.859812\n",
       "1949-05    4.795791\n",
       "             ...   \n",
       "1960-08    6.406880\n",
       "1960-09    6.230481\n",
       "1960-10    6.133398\n",
       "1960-11    5.966147\n",
       "1960-12    6.068426\n",
       "Length: 144, dtype: float64"
      ]
     },
     "execution_count": 23,
     "metadata": {},
     "output_type": "execute_result"
    }
   ],
   "source": [
    "serie2 = np.log(serie)\n",
    "serie2"
   ]
  },
  {
   "cell_type": "code",
   "execution_count": 24,
   "id": "48e8402c",
   "metadata": {},
   "outputs": [
    {
     "data": {
      "text/plain": [
       "Month\n",
       "1949-01    112.0\n",
       "1949-02    118.0\n",
       "1949-03    132.0\n",
       "1949-04    129.0\n",
       "1949-05    121.0\n",
       "           ...  \n",
       "1960-08    606.0\n",
       "1960-09    508.0\n",
       "1960-10    461.0\n",
       "1960-11    390.0\n",
       "1960-12    432.0\n",
       "Length: 144, dtype: float64"
      ]
     },
     "execution_count": 24,
     "metadata": {},
     "output_type": "execute_result"
    }
   ],
   "source": [
    "serie_invertida = np.e**serie2 # e ^ serie2\n",
    "serie_invertida"
   ]
  },
  {
   "cell_type": "markdown",
   "id": "4c720302",
   "metadata": {},
   "source": [
    "E se utilizarmos o logaritmo na base 10?"
   ]
  },
  {
   "cell_type": "code",
   "execution_count": 25,
   "id": "c19e6d57",
   "metadata": {},
   "outputs": [
    {
     "data": {
      "text/plain": [
       "Month\n",
       "1949-01    2.049218\n",
       "1949-02    2.071882\n",
       "1949-03    2.120574\n",
       "1949-04    2.110590\n",
       "1949-05    2.082785\n",
       "             ...   \n",
       "1960-08    2.782473\n",
       "1960-09    2.705864\n",
       "1960-10    2.663701\n",
       "1960-11    2.591065\n",
       "1960-12    2.635484\n",
       "Length: 144, dtype: float64"
      ]
     },
     "execution_count": 25,
     "metadata": {},
     "output_type": "execute_result"
    }
   ],
   "source": [
    "serie2 = np.log10(serie)\n",
    "serie2"
   ]
  },
  {
   "cell_type": "code",
   "execution_count": 26,
   "id": "ba863b7e",
   "metadata": {},
   "outputs": [
    {
     "data": {
      "text/plain": [
       "Month\n",
       "1949-01    112.0\n",
       "1949-02    118.0\n",
       "1949-03    132.0\n",
       "1949-04    129.0\n",
       "1949-05    121.0\n",
       "           ...  \n",
       "1960-08    606.0\n",
       "1960-09    508.0\n",
       "1960-10    461.0\n",
       "1960-11    390.0\n",
       "1960-12    432.0\n",
       "Length: 144, dtype: float64"
      ]
     },
     "execution_count": 26,
     "metadata": {},
     "output_type": "execute_result"
    }
   ],
   "source": [
    "serie_revertida = 10**serie2 # 10^serie2\n",
    "serie_revertida"
   ]
  },
  {
   "cell_type": "markdown",
   "id": "37af6e12",
   "metadata": {},
   "source": [
    "## Reversão da transformação por raiz cúbica"
   ]
  },
  {
   "cell_type": "code",
   "execution_count": 27,
   "id": "820b6555",
   "metadata": {},
   "outputs": [
    {
     "data": {
      "text/plain": [
       "Month\n",
       "1949-01    4.820285\n",
       "1949-02    4.904868\n",
       "1949-03    5.091643\n",
       "1949-04    5.052774\n",
       "1949-05    4.946087\n",
       "             ...   \n",
       "1960-08    8.462348\n",
       "1960-09    7.979112\n",
       "1960-10    7.725032\n",
       "1960-11    7.306144\n",
       "1960-12    7.559526\n",
       "Length: 144, dtype: float64"
      ]
     },
     "execution_count": 27,
     "metadata": {},
     "output_type": "execute_result"
    }
   ],
   "source": [
    "serie3 = (serie)**(1/3) # Raiz cúbica, útil quando temos valores negativos ou zeros na série\n",
    "serie3"
   ]
  },
  {
   "cell_type": "code",
   "execution_count": 28,
   "id": "9dbb4155",
   "metadata": {},
   "outputs": [
    {
     "data": {
      "text/plain": [
       "Month\n",
       "1949-01    112.0\n",
       "1949-02    118.0\n",
       "1949-03    132.0\n",
       "1949-04    129.0\n",
       "1949-05    121.0\n",
       "           ...  \n",
       "1960-08    606.0\n",
       "1960-09    508.0\n",
       "1960-10    461.0\n",
       "1960-11    390.0\n",
       "1960-12    432.0\n",
       "Length: 144, dtype: float64"
      ]
     },
     "execution_count": 28,
     "metadata": {},
     "output_type": "execute_result"
    }
   ],
   "source": [
    "serie_revertida = serie3**3 # O inverso da raiz cúbica é o número elevado ao cubo\n",
    "serie_revertida"
   ]
  },
  {
   "cell_type": "markdown",
   "id": "97ea62ec",
   "metadata": {},
   "source": [
    "# Reversão da Diferenciação\n",
    "\n",
    "A diferenciação, que é um método de se transformar uma série não estacionária numa estacionária (zt - zt-1)."
   ]
  },
  {
   "cell_type": "code",
   "execution_count": 29,
   "id": "07370349",
   "metadata": {},
   "outputs": [
    {
     "data": {
      "text/plain": [
       "Month\n",
       "1949-01     NaN\n",
       "1949-02     6.0\n",
       "1949-03    14.0\n",
       "1949-04    -3.0\n",
       "1949-05    -8.0\n",
       "           ... \n",
       "1960-08   -16.0\n",
       "1960-09   -98.0\n",
       "1960-10   -47.0\n",
       "1960-11   -71.0\n",
       "1960-12    42.0\n",
       "Length: 144, dtype: float64"
      ]
     },
     "execution_count": 29,
     "metadata": {},
     "output_type": "execute_result"
    }
   ],
   "source": [
    "serie_diferenciada = serie.diff()\n",
    "serie_diferenciada"
   ]
  },
  {
   "cell_type": "markdown",
   "id": "f1d5c0db",
   "metadata": {},
   "source": [
    "Como a diferenciação perdemos o primeiro valor pela fórmula de diferenciação, ficamos sem um antecessor (D(Yt) = Yt - Yt-1)  e perdemos o primeiro dado."
   ]
  },
  {
   "cell_type": "code",
   "execution_count": 30,
   "id": "beca1084",
   "metadata": {},
   "outputs": [
    {
     "data": {
      "text/plain": [
       "Month\n",
       "1949-01      NaN\n",
       "1949-02    118.0\n",
       "1949-03    132.0\n",
       "1949-04    129.0\n",
       "1949-05    121.0\n",
       "           ...  \n",
       "1960-08    606.0\n",
       "1960-09    508.0\n",
       "1960-10    461.0\n",
       "1960-11    390.0\n",
       "1960-12    432.0\n",
       "Length: 144, dtype: float64"
      ]
     },
     "execution_count": 30,
     "metadata": {},
     "output_type": "execute_result"
    }
   ],
   "source": [
    "serie_revertida = serie.shift(1) + serie_diferenciada\n",
    "serie_revertida"
   ]
  },
  {
   "cell_type": "markdown",
   "id": "ea217328",
   "metadata": {},
   "source": [
    "## Organizando num DataFrame\n",
    "\n",
    "E se não quisermos criar necessariamente uma Série no pandas e fizer direto no DataFrame?"
   ]
  },
  {
   "cell_type": "code",
   "execution_count": 34,
   "id": "7002f4ea",
   "metadata": {},
   "outputs": [
    {
     "data": {
      "text/html": [
       "<div>\n",
       "<style scoped>\n",
       "    .dataframe tbody tr th:only-of-type {\n",
       "        vertical-align: middle;\n",
       "    }\n",
       "\n",
       "    .dataframe tbody tr th {\n",
       "        vertical-align: top;\n",
       "    }\n",
       "\n",
       "    .dataframe thead th {\n",
       "        text-align: right;\n",
       "    }\n",
       "</style>\n",
       "<table border=\"1\" class=\"dataframe\">\n",
       "  <thead>\n",
       "    <tr style=\"text-align: right;\">\n",
       "      <th></th>\n",
       "      <th>Month</th>\n",
       "      <th>#Passengers</th>\n",
       "      <th>valores_diferenciados</th>\n",
       "    </tr>\n",
       "  </thead>\n",
       "  <tbody>\n",
       "    <tr>\n",
       "      <th>0</th>\n",
       "      <td>1949-01</td>\n",
       "      <td>112</td>\n",
       "      <td>NaN</td>\n",
       "    </tr>\n",
       "    <tr>\n",
       "      <th>1</th>\n",
       "      <td>1949-02</td>\n",
       "      <td>118</td>\n",
       "      <td>6.0</td>\n",
       "    </tr>\n",
       "    <tr>\n",
       "      <th>2</th>\n",
       "      <td>1949-03</td>\n",
       "      <td>132</td>\n",
       "      <td>14.0</td>\n",
       "    </tr>\n",
       "    <tr>\n",
       "      <th>3</th>\n",
       "      <td>1949-04</td>\n",
       "      <td>129</td>\n",
       "      <td>-3.0</td>\n",
       "    </tr>\n",
       "    <tr>\n",
       "      <th>4</th>\n",
       "      <td>1949-05</td>\n",
       "      <td>121</td>\n",
       "      <td>-8.0</td>\n",
       "    </tr>\n",
       "    <tr>\n",
       "      <th>...</th>\n",
       "      <td>...</td>\n",
       "      <td>...</td>\n",
       "      <td>...</td>\n",
       "    </tr>\n",
       "    <tr>\n",
       "      <th>139</th>\n",
       "      <td>1960-08</td>\n",
       "      <td>606</td>\n",
       "      <td>-16.0</td>\n",
       "    </tr>\n",
       "    <tr>\n",
       "      <th>140</th>\n",
       "      <td>1960-09</td>\n",
       "      <td>508</td>\n",
       "      <td>-98.0</td>\n",
       "    </tr>\n",
       "    <tr>\n",
       "      <th>141</th>\n",
       "      <td>1960-10</td>\n",
       "      <td>461</td>\n",
       "      <td>-47.0</td>\n",
       "    </tr>\n",
       "    <tr>\n",
       "      <th>142</th>\n",
       "      <td>1960-11</td>\n",
       "      <td>390</td>\n",
       "      <td>-71.0</td>\n",
       "    </tr>\n",
       "    <tr>\n",
       "      <th>143</th>\n",
       "      <td>1960-12</td>\n",
       "      <td>432</td>\n",
       "      <td>42.0</td>\n",
       "    </tr>\n",
       "  </tbody>\n",
       "</table>\n",
       "<p>144 rows × 3 columns</p>\n",
       "</div>"
      ],
      "text/plain": [
       "       Month  #Passengers  valores_diferenciados\n",
       "0    1949-01          112                    NaN\n",
       "1    1949-02          118                    6.0\n",
       "2    1949-03          132                   14.0\n",
       "3    1949-04          129                   -3.0\n",
       "4    1949-05          121                   -8.0\n",
       "..       ...          ...                    ...\n",
       "139  1960-08          606                  -16.0\n",
       "140  1960-09          508                  -98.0\n",
       "141  1960-10          461                  -47.0\n",
       "142  1960-11          390                  -71.0\n",
       "143  1960-12          432                   42.0\n",
       "\n",
       "[144 rows x 3 columns]"
      ]
     },
     "execution_count": 34,
     "metadata": {},
     "output_type": "execute_result"
    }
   ],
   "source": [
    "dados['valores_diferenciados'] = dados['#Passengers'].diff() # Média e variância constante\n",
    "dados"
   ]
  },
  {
   "cell_type": "code",
   "execution_count": 35,
   "id": "40172c31",
   "metadata": {},
   "outputs": [
    {
     "data": {
      "text/html": [
       "<div>\n",
       "<style scoped>\n",
       "    .dataframe tbody tr th:only-of-type {\n",
       "        vertical-align: middle;\n",
       "    }\n",
       "\n",
       "    .dataframe tbody tr th {\n",
       "        vertical-align: top;\n",
       "    }\n",
       "\n",
       "    .dataframe thead th {\n",
       "        text-align: right;\n",
       "    }\n",
       "</style>\n",
       "<table border=\"1\" class=\"dataframe\">\n",
       "  <thead>\n",
       "    <tr style=\"text-align: right;\">\n",
       "      <th></th>\n",
       "      <th>Month</th>\n",
       "      <th>#Passengers</th>\n",
       "      <th>valores_diferenciados</th>\n",
       "      <th>valores_revertidos</th>\n",
       "    </tr>\n",
       "  </thead>\n",
       "  <tbody>\n",
       "    <tr>\n",
       "      <th>0</th>\n",
       "      <td>1949-01</td>\n",
       "      <td>112</td>\n",
       "      <td>NaN</td>\n",
       "      <td>NaN</td>\n",
       "    </tr>\n",
       "    <tr>\n",
       "      <th>1</th>\n",
       "      <td>1949-02</td>\n",
       "      <td>118</td>\n",
       "      <td>6.0</td>\n",
       "      <td>118.0</td>\n",
       "    </tr>\n",
       "    <tr>\n",
       "      <th>2</th>\n",
       "      <td>1949-03</td>\n",
       "      <td>132</td>\n",
       "      <td>14.0</td>\n",
       "      <td>132.0</td>\n",
       "    </tr>\n",
       "    <tr>\n",
       "      <th>3</th>\n",
       "      <td>1949-04</td>\n",
       "      <td>129</td>\n",
       "      <td>-3.0</td>\n",
       "      <td>129.0</td>\n",
       "    </tr>\n",
       "    <tr>\n",
       "      <th>4</th>\n",
       "      <td>1949-05</td>\n",
       "      <td>121</td>\n",
       "      <td>-8.0</td>\n",
       "      <td>121.0</td>\n",
       "    </tr>\n",
       "    <tr>\n",
       "      <th>...</th>\n",
       "      <td>...</td>\n",
       "      <td>...</td>\n",
       "      <td>...</td>\n",
       "      <td>...</td>\n",
       "    </tr>\n",
       "    <tr>\n",
       "      <th>139</th>\n",
       "      <td>1960-08</td>\n",
       "      <td>606</td>\n",
       "      <td>-16.0</td>\n",
       "      <td>606.0</td>\n",
       "    </tr>\n",
       "    <tr>\n",
       "      <th>140</th>\n",
       "      <td>1960-09</td>\n",
       "      <td>508</td>\n",
       "      <td>-98.0</td>\n",
       "      <td>508.0</td>\n",
       "    </tr>\n",
       "    <tr>\n",
       "      <th>141</th>\n",
       "      <td>1960-10</td>\n",
       "      <td>461</td>\n",
       "      <td>-47.0</td>\n",
       "      <td>461.0</td>\n",
       "    </tr>\n",
       "    <tr>\n",
       "      <th>142</th>\n",
       "      <td>1960-11</td>\n",
       "      <td>390</td>\n",
       "      <td>-71.0</td>\n",
       "      <td>390.0</td>\n",
       "    </tr>\n",
       "    <tr>\n",
       "      <th>143</th>\n",
       "      <td>1960-12</td>\n",
       "      <td>432</td>\n",
       "      <td>42.0</td>\n",
       "      <td>432.0</td>\n",
       "    </tr>\n",
       "  </tbody>\n",
       "</table>\n",
       "<p>144 rows × 4 columns</p>\n",
       "</div>"
      ],
      "text/plain": [
       "       Month  #Passengers  valores_diferenciados  valores_revertidos\n",
       "0    1949-01          112                    NaN                 NaN\n",
       "1    1949-02          118                    6.0               118.0\n",
       "2    1949-03          132                   14.0               132.0\n",
       "3    1949-04          129                   -3.0               129.0\n",
       "4    1949-05          121                   -8.0               121.0\n",
       "..       ...          ...                    ...                 ...\n",
       "139  1960-08          606                  -16.0               606.0\n",
       "140  1960-09          508                  -98.0               508.0\n",
       "141  1960-10          461                  -47.0               461.0\n",
       "142  1960-11          390                  -71.0               390.0\n",
       "143  1960-12          432                   42.0               432.0\n",
       "\n",
       "[144 rows x 4 columns]"
      ]
     },
     "execution_count": 35,
     "metadata": {},
     "output_type": "execute_result"
    }
   ],
   "source": [
    "dados['valores_revertidos'] = dados['#Passengers'].shift(1) + dados['valores_diferenciados']\n",
    "dados"
   ]
  },
  {
   "cell_type": "code",
   "execution_count": null,
   "id": "b3727f09",
   "metadata": {},
   "outputs": [],
   "source": []
  }
 ],
 "metadata": {
  "kernelspec": {
   "display_name": "Python 3 (ipykernel)",
   "language": "python",
   "name": "python3"
  },
  "language_info": {
   "codemirror_mode": {
    "name": "ipython",
    "version": 3
   },
   "file_extension": ".py",
   "mimetype": "text/x-python",
   "name": "python",
   "nbconvert_exporter": "python",
   "pygments_lexer": "ipython3",
   "version": "3.9.12"
  }
 },
 "nbformat": 4,
 "nbformat_minor": 5
}
